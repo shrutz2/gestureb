{
 "cells": [
  {
   "cell_type": "markdown",
   "id": "43fd1503",
   "metadata": {},
   "source": [
    "<img src='app/static/img/logo.png' style=\"display: block; margin: auto;\" width='120'>\n",
    "\n",
    "# Table of Contents\n",
    "* [Import Libraries](#import-libraries)\n",
    "* [Connect to Database](#connect-to-database)\n",
    "* [Load Data](#load-data)\n",
    "* [Pivot Table](#pivot-table)\n",
    "* [Save Feature Names Order](#save-feature-names-order)\n",
    "* [Pulling Label from Video table and merging it](#pulling-label-from-video-table-and-merging-it)\n",
    "* [Create Time Series Tensor](#create-time-series-tensor)\n",
    "* [Seperate Feature Matrix and Label Vector](#separate-feature-matrix-and-label-vector)\n",
    "* [Label Encoder + One-Hot Encoder](#label-encoder--one-hot)\n",
    "* [Scaling](#scaling)\n",
    "* [Split Data into Train and Test Sets](#split-data-into-train-and-test-sets)\n",
    "* [Configure Tensorboard](#configure-tensorboard)\n",
    "* [Build LSTM Model](#build-lstm-model)\n",
    "  * [Compile Model](#compile-model)\n",
    "  * [Set Callbacks](#set-callbacks)\n",
    "  * [Start Tensorboard](#start-tensorboard)\n",
    "  * [Train Model](#train-model)\n",
    "  * [Training History](#training-history)\n",
    "* [Evaluate](#evaluate-model)\n",
    "  * [Accuracy](#accuracy)\n",
    "  * [Classification Report](#classification-report)\n",
    "  * [Confusion Matrix](#confusion-matrix)\n",
    "* [t-SNE](#t-sne)\n",
    "  * [Create Intermediate Layer for t-SNE](#create-intermediate-layer-for-t-sne)\n",
    "  * [Get Intermediate Layer Output](#get-intermediate-layer-output)\n",
    "  * [Reduction to 2D Space with t-SNE](#reduction-to-2d-space-with-t-sne)\n",
    "  * [Visualize t-SNE](#visualize-t-sne)\n",
    "* [Save the Model, LabelEncoder and Scaler](#save-the-model-labelencoder-and-scaler)\n",
    "\n",
    "# Import Libraries"
   ]
  },
  {
   "cell_type": "code",
   "execution_count": null,
   "id": "9095b717",
   "metadata": {},
   "outputs": [
    {
     "name": "stderr",
     "output_type": "stream",
     "text": [
      "2025-05-12 14:23:53.978273: I tensorflow/core/util/port.cc:153] oneDNN custom operations are on. You may see slightly different numerical results due to floating-point round-off errors from different computation orders. To turn them off, set the environment variable `TF_ENABLE_ONEDNN_OPTS=0`.\n",
      "2025-05-12 14:23:53.998883: E external/local_xla/xla/stream_executor/cuda/cuda_fft.cc:477] Unable to register cuFFT factory: Attempting to register factory for plugin cuFFT when one has already been registered\n",
      "WARNING: All log messages before absl::InitializeLog() is called are written to STDERR\n",
      "E0000 00:00:1747049034.013453  321660 cuda_dnn.cc:8310] Unable to register cuDNN factory: Attempting to register factory for plugin cuDNN when one has already been registered\n",
      "E0000 00:00:1747049034.017293  321660 cuda_blas.cc:1418] Unable to register cuBLAS factory: Attempting to register factory for plugin cuBLAS when one has already been registered\n",
      "2025-05-12 14:23:54.037680: I tensorflow/core/platform/cpu_feature_guard.cc:210] This TensorFlow binary is optimized to use available CPU instructions in performance-critical operations.\n",
      "To enable the following instructions: AVX2 AVX_VNNI FMA, in other operations, rebuild TensorFlow with the appropriate compiler flags.\n"
     ]
    }
   ],
   "source": [
    "import numpy as np\n",
    "import pandas as pd\n",
    "import seaborn as sns\n",
    "import matplotlib.pyplot as plt\n",
    "from sqlalchemy import create_engine\n",
    "import json\n",
    "import joblib\n",
    "\n",
    "from sklearn.preprocessing import LabelEncoder, StandardScaler\n",
    "from sklearn.model_selection import train_test_split\n",
    "from sklearn.metrics import confusion_matrix, classification_report\n",
    "from sklearn.manifold import TSNE\n",
    "\n",
    "import tensorflow as tf\n",
    "from tensorflow.keras.utils import to_categorical\n",
    "from tensorflow.keras.models import Model\n",
    "from tensorflow.keras.layers import Input, LSTM, Dropout, Dense, BatchNormalization\n",
    "from tensorflow.keras.optimizers import Adam\n",
    "from tensorflow.keras.callbacks import (\n",
    "    TensorBoard,\n",
    "    EarlyStopping,\n",
    "    ReduceLROnPlateau,\n",
    "    ModelCheckpoint,\n",
    ")"
   ]
  },
  {
   "cell_type": "markdown",
   "id": "a97c6dc9",
   "metadata": {},
   "source": [
    "# Connect to Database"
   ]
  },
  {
   "cell_type": "code",
   "execution_count": 2,
   "id": "cd855907",
   "metadata": {},
   "outputs": [],
   "source": [
    "engine = create_engine('sqlite:///app/sign-language-recognition.sqlite')"
   ]
  },
  {
   "cell_type": "markdown",
   "id": "92f6091a",
   "metadata": {},
   "source": [
    "# Load Data"
   ]
  },
  {
   "cell_type": "code",
   "execution_count": 3,
   "id": "e8d2e22b",
   "metadata": {},
   "outputs": [],
   "source": [
    "df = pd.read_sql('SELECT * FROM video_feature', engine)"
   ]
  },
  {
   "cell_type": "code",
   "execution_count": 4,
   "id": "a3c54c8c",
   "metadata": {},
   "outputs": [
    {
     "data": {
      "application/vnd.microsoft.datawrangler.viewer.v0+json": {
       "columns": [
        {
         "name": "index",
         "rawType": "int64",
         "type": "integer"
        },
        {
         "name": "id",
         "rawType": "int64",
         "type": "integer"
        },
        {
         "name": "video_id",
         "rawType": "int64",
         "type": "integer"
        },
        {
         "name": "feature_name",
         "rawType": "object",
         "type": "string"
        },
        {
         "name": "value",
         "rawType": "float64",
         "type": "float"
        },
        {
         "name": "start_frame",
         "rawType": "int64",
         "type": "integer"
        },
        {
         "name": "end_frame",
         "rawType": "int64",
         "type": "integer"
        }
       ],
       "conversionMethod": "pd.DataFrame",
       "ref": "af9e4b2a-8fa0-49c4-8eea-2c693ee86dcc",
       "rows": [
        [
         "0",
         "774721",
         "1",
         "left_tips_x_mean",
         "0.4865601006895304",
         "1",
         "7"
        ],
        [
         "1",
         "774722",
         "1",
         "left_tips_x_std",
         "0.4200416278206162",
         "1",
         "7"
        ],
        [
         "2",
         "774723",
         "1",
         "left_tips_y_mean",
         "0.6411965668201447",
         "1",
         "7"
        ],
        [
         "3",
         "774724",
         "1",
         "left_tips_y_std",
         "0.28931417445051133",
         "1",
         "7"
        ],
        [
         "4",
         "774725",
         "1",
         "left_tips_z_mean",
         "-0.04439442846924067",
         "1",
         "7"
        ]
       ],
       "shape": {
        "columns": 6,
        "rows": 5
       }
      },
      "text/html": [
       "<div>\n",
       "<style scoped>\n",
       "    .dataframe tbody tr th:only-of-type {\n",
       "        vertical-align: middle;\n",
       "    }\n",
       "\n",
       "    .dataframe tbody tr th {\n",
       "        vertical-align: top;\n",
       "    }\n",
       "\n",
       "    .dataframe thead th {\n",
       "        text-align: right;\n",
       "    }\n",
       "</style>\n",
       "<table border=\"1\" class=\"dataframe\">\n",
       "  <thead>\n",
       "    <tr style=\"text-align: right;\">\n",
       "      <th></th>\n",
       "      <th>id</th>\n",
       "      <th>video_id</th>\n",
       "      <th>feature_name</th>\n",
       "      <th>value</th>\n",
       "      <th>start_frame</th>\n",
       "      <th>end_frame</th>\n",
       "    </tr>\n",
       "  </thead>\n",
       "  <tbody>\n",
       "    <tr>\n",
       "      <th>0</th>\n",
       "      <td>774721</td>\n",
       "      <td>1</td>\n",
       "      <td>left_tips_x_mean</td>\n",
       "      <td>0.486560</td>\n",
       "      <td>1</td>\n",
       "      <td>7</td>\n",
       "    </tr>\n",
       "    <tr>\n",
       "      <th>1</th>\n",
       "      <td>774722</td>\n",
       "      <td>1</td>\n",
       "      <td>left_tips_x_std</td>\n",
       "      <td>0.420042</td>\n",
       "      <td>1</td>\n",
       "      <td>7</td>\n",
       "    </tr>\n",
       "    <tr>\n",
       "      <th>2</th>\n",
       "      <td>774723</td>\n",
       "      <td>1</td>\n",
       "      <td>left_tips_y_mean</td>\n",
       "      <td>0.641197</td>\n",
       "      <td>1</td>\n",
       "      <td>7</td>\n",
       "    </tr>\n",
       "    <tr>\n",
       "      <th>3</th>\n",
       "      <td>774724</td>\n",
       "      <td>1</td>\n",
       "      <td>left_tips_y_std</td>\n",
       "      <td>0.289314</td>\n",
       "      <td>1</td>\n",
       "      <td>7</td>\n",
       "    </tr>\n",
       "    <tr>\n",
       "      <th>4</th>\n",
       "      <td>774725</td>\n",
       "      <td>1</td>\n",
       "      <td>left_tips_z_mean</td>\n",
       "      <td>-0.044394</td>\n",
       "      <td>1</td>\n",
       "      <td>7</td>\n",
       "    </tr>\n",
       "  </tbody>\n",
       "</table>\n",
       "</div>"
      ],
      "text/plain": [
       "       id  video_id      feature_name     value  start_frame  end_frame\n",
       "0  774721         1  left_tips_x_mean  0.486560            1          7\n",
       "1  774722         1   left_tips_x_std  0.420042            1          7\n",
       "2  774723         1  left_tips_y_mean  0.641197            1          7\n",
       "3  774724         1   left_tips_y_std  0.289314            1          7\n",
       "4  774725         1  left_tips_z_mean -0.044394            1          7"
      ]
     },
     "execution_count": 4,
     "metadata": {},
     "output_type": "execute_result"
    }
   ],
   "source": [
    "df.head()"
   ]
  },
  {
   "cell_type": "markdown",
   "id": "a5052474",
   "metadata": {},
   "source": [
    "# Pivot Table\n",
    "\n",
    "Her pencere (start_frame, video_id) için tüm feature_name → value’ları pivot yapıyoruz."
   ]
  },
  {
   "cell_type": "code",
   "execution_count": 5,
   "id": "81942acc",
   "metadata": {},
   "outputs": [],
   "source": [
    "pivot = df.pivot_table(\n",
    "    index=[\"video_id\", \"start_frame\", \"end_frame\"],\n",
    "    columns=\"feature_name\",\n",
    "    values=\"value\",\n",
    ").reset_index()"
   ]
  },
  {
   "cell_type": "code",
   "execution_count": 6,
   "id": "c00610d4",
   "metadata": {},
   "outputs": [
    {
     "data": {
      "application/vnd.microsoft.datawrangler.viewer.v0+json": {
       "columns": [
        {
         "name": "index",
         "rawType": "int64",
         "type": "integer"
        },
        {
         "name": "video_id",
         "rawType": "int64",
         "type": "integer"
        },
        {
         "name": "start_frame",
         "rawType": "int64",
         "type": "integer"
        },
        {
         "name": "end_frame",
         "rawType": "int64",
         "type": "integer"
        },
        {
         "name": "joints_x_mean",
         "rawType": "float64",
         "type": "float"
        },
        {
         "name": "joints_x_std",
         "rawType": "float64",
         "type": "float"
        },
        {
         "name": "joints_y_mean",
         "rawType": "float64",
         "type": "float"
        },
        {
         "name": "joints_y_std",
         "rawType": "float64",
         "type": "float"
        },
        {
         "name": "joints_z_mean",
         "rawType": "float64",
         "type": "float"
        },
        {
         "name": "joints_z_std",
         "rawType": "float64",
         "type": "float"
        },
        {
         "name": "left_tips_x_mean",
         "rawType": "float64",
         "type": "float"
        },
        {
         "name": "left_tips_x_std",
         "rawType": "float64",
         "type": "float"
        },
        {
         "name": "left_tips_y_mean",
         "rawType": "float64",
         "type": "float"
        },
        {
         "name": "left_tips_y_std",
         "rawType": "float64",
         "type": "float"
        },
        {
         "name": "left_tips_z_mean",
         "rawType": "float64",
         "type": "float"
        },
        {
         "name": "left_tips_z_std",
         "rawType": "float64",
         "type": "float"
        },
        {
         "name": "right_tips_x_mean",
         "rawType": "float64",
         "type": "float"
        },
        {
         "name": "right_tips_x_std",
         "rawType": "float64",
         "type": "float"
        },
        {
         "name": "right_tips_y_mean",
         "rawType": "float64",
         "type": "float"
        },
        {
         "name": "right_tips_y_std",
         "rawType": "float64",
         "type": "float"
        },
        {
         "name": "right_tips_z_mean",
         "rawType": "float64",
         "type": "float"
        },
        {
         "name": "right_tips_z_std",
         "rawType": "float64",
         "type": "float"
        }
       ],
       "conversionMethod": "pd.DataFrame",
       "ref": "47eab55f-6a25-43e4-ac41-b16143719480",
       "rows": [
        [
         "0",
         "1",
         "1",
         "7",
         "0.5016089597096046",
         "0.3116392782776629",
         "0.7690983017285665",
         "0.12631175605234793",
         "-0.38885351591226125",
         "0.3463941398783958",
         "0.4865601006895304",
         "0.4200416278206162",
         "0.6411965668201447",
         "0.28931417445051133",
         "-0.04439442846924067",
         "0.02051413217471444",
         "0.6739806612332662",
         "0.3313747597370227",
         "0.7879065076510111",
         "0.15323260133785516",
         "0.032332550113399826",
         "0.11937601775492952"
        ],
        [
         "1",
         "1",
         "8",
         "14",
         "0.5129387800892194",
         "0.21952913979571764",
         "0.6800792155166467",
         "0.16386298305109023",
         "-0.4243232936908801",
         "0.37445412188776517",
         "0.7232312858104706",
         "0.05539375565024439",
         "0.11965748816728591",
         "0.07911658981597913",
         "-0.011088716913945973",
         "0.029442081571088508",
         "0.5392026960849762",
         "0.09123958251858805",
         "0.8753728222846985",
         "0.020643285877518507",
         "-0.058394373245537284",
         "0.042221434480155993"
        ],
        [
         "2",
         "1",
         "15",
         "21",
         "0.518004386789269",
         "0.15780246468413606",
         "0.6647080899112754",
         "0.18326549429893896",
         "-0.32513468405846246",
         "0.29861272163252944",
         "0.6397122383117676",
         "0.005388437907422226",
         "0.07164990802605947",
         "0.052389991240071605",
         "0.06510582694706196",
         "0.03892957608552512",
         "0.6838714599609375",
         "0.03099012935377645",
         "0.8994058012962342",
         "0.018319112955444427",
         "0.025075741076337484",
         "0.03706327386785605"
        ],
        [
         "3",
         "1",
         "22",
         "28",
         "0.5233986601233482",
         "0.14918021087808",
         "0.6938935173675418",
         "0.19382017790028472",
         "-0.3002516774310304",
         "0.2729255161454057",
         "0.6776133447885513",
         "0.030946859709288344",
         "0.6968462716788053",
         "0.35888058565329856",
         "0.0543223320535617",
         "0.038270814584567395",
         "0.6625661551952362",
         "0.021752719334418292",
         "0.30005565732717515",
         "0.353334266365486",
         "0.050873040812439284",
         "0.04492867285019721"
        ],
        [
         "4",
         "1",
         "29",
         "35",
         "0.5226671008600129",
         "0.14791563644783123",
         "0.6902233896156152",
         "0.19282926754129925",
         "-0.2904145296623837",
         "0.2637374709695509",
         "0.6612858374913534",
         "0.024966838468152758",
         "0.3583895926674207",
         "0.3912442164515936",
         "0.04447474693879485",
         "0.04461268967506343",
         "0.6746054689089457",
         "0.028803806271728395",
         "0.6258039260903995",
         "0.38329445929960915",
         "0.04556965495770176",
         "0.04043915559543262"
        ]
       ],
       "shape": {
        "columns": 21,
        "rows": 5
       }
      },
      "text/html": [
       "<div>\n",
       "<style scoped>\n",
       "    .dataframe tbody tr th:only-of-type {\n",
       "        vertical-align: middle;\n",
       "    }\n",
       "\n",
       "    .dataframe tbody tr th {\n",
       "        vertical-align: top;\n",
       "    }\n",
       "\n",
       "    .dataframe thead th {\n",
       "        text-align: right;\n",
       "    }\n",
       "</style>\n",
       "<table border=\"1\" class=\"dataframe\">\n",
       "  <thead>\n",
       "    <tr style=\"text-align: right;\">\n",
       "      <th>feature_name</th>\n",
       "      <th>video_id</th>\n",
       "      <th>start_frame</th>\n",
       "      <th>end_frame</th>\n",
       "      <th>joints_x_mean</th>\n",
       "      <th>joints_x_std</th>\n",
       "      <th>joints_y_mean</th>\n",
       "      <th>joints_y_std</th>\n",
       "      <th>joints_z_mean</th>\n",
       "      <th>joints_z_std</th>\n",
       "      <th>left_tips_x_mean</th>\n",
       "      <th>...</th>\n",
       "      <th>left_tips_y_mean</th>\n",
       "      <th>left_tips_y_std</th>\n",
       "      <th>left_tips_z_mean</th>\n",
       "      <th>left_tips_z_std</th>\n",
       "      <th>right_tips_x_mean</th>\n",
       "      <th>right_tips_x_std</th>\n",
       "      <th>right_tips_y_mean</th>\n",
       "      <th>right_tips_y_std</th>\n",
       "      <th>right_tips_z_mean</th>\n",
       "      <th>right_tips_z_std</th>\n",
       "    </tr>\n",
       "  </thead>\n",
       "  <tbody>\n",
       "    <tr>\n",
       "      <th>0</th>\n",
       "      <td>1</td>\n",
       "      <td>1</td>\n",
       "      <td>7</td>\n",
       "      <td>0.501609</td>\n",
       "      <td>0.311639</td>\n",
       "      <td>0.769098</td>\n",
       "      <td>0.126312</td>\n",
       "      <td>-0.388854</td>\n",
       "      <td>0.346394</td>\n",
       "      <td>0.486560</td>\n",
       "      <td>...</td>\n",
       "      <td>0.641197</td>\n",
       "      <td>0.289314</td>\n",
       "      <td>-0.044394</td>\n",
       "      <td>0.020514</td>\n",
       "      <td>0.673981</td>\n",
       "      <td>0.331375</td>\n",
       "      <td>0.787907</td>\n",
       "      <td>0.153233</td>\n",
       "      <td>0.032333</td>\n",
       "      <td>0.119376</td>\n",
       "    </tr>\n",
       "    <tr>\n",
       "      <th>1</th>\n",
       "      <td>1</td>\n",
       "      <td>8</td>\n",
       "      <td>14</td>\n",
       "      <td>0.512939</td>\n",
       "      <td>0.219529</td>\n",
       "      <td>0.680079</td>\n",
       "      <td>0.163863</td>\n",
       "      <td>-0.424323</td>\n",
       "      <td>0.374454</td>\n",
       "      <td>0.723231</td>\n",
       "      <td>...</td>\n",
       "      <td>0.119657</td>\n",
       "      <td>0.079117</td>\n",
       "      <td>-0.011089</td>\n",
       "      <td>0.029442</td>\n",
       "      <td>0.539203</td>\n",
       "      <td>0.091240</td>\n",
       "      <td>0.875373</td>\n",
       "      <td>0.020643</td>\n",
       "      <td>-0.058394</td>\n",
       "      <td>0.042221</td>\n",
       "    </tr>\n",
       "    <tr>\n",
       "      <th>2</th>\n",
       "      <td>1</td>\n",
       "      <td>15</td>\n",
       "      <td>21</td>\n",
       "      <td>0.518004</td>\n",
       "      <td>0.157802</td>\n",
       "      <td>0.664708</td>\n",
       "      <td>0.183265</td>\n",
       "      <td>-0.325135</td>\n",
       "      <td>0.298613</td>\n",
       "      <td>0.639712</td>\n",
       "      <td>...</td>\n",
       "      <td>0.071650</td>\n",
       "      <td>0.052390</td>\n",
       "      <td>0.065106</td>\n",
       "      <td>0.038930</td>\n",
       "      <td>0.683871</td>\n",
       "      <td>0.030990</td>\n",
       "      <td>0.899406</td>\n",
       "      <td>0.018319</td>\n",
       "      <td>0.025076</td>\n",
       "      <td>0.037063</td>\n",
       "    </tr>\n",
       "    <tr>\n",
       "      <th>3</th>\n",
       "      <td>1</td>\n",
       "      <td>22</td>\n",
       "      <td>28</td>\n",
       "      <td>0.523399</td>\n",
       "      <td>0.149180</td>\n",
       "      <td>0.693894</td>\n",
       "      <td>0.193820</td>\n",
       "      <td>-0.300252</td>\n",
       "      <td>0.272926</td>\n",
       "      <td>0.677613</td>\n",
       "      <td>...</td>\n",
       "      <td>0.696846</td>\n",
       "      <td>0.358881</td>\n",
       "      <td>0.054322</td>\n",
       "      <td>0.038271</td>\n",
       "      <td>0.662566</td>\n",
       "      <td>0.021753</td>\n",
       "      <td>0.300056</td>\n",
       "      <td>0.353334</td>\n",
       "      <td>0.050873</td>\n",
       "      <td>0.044929</td>\n",
       "    </tr>\n",
       "    <tr>\n",
       "      <th>4</th>\n",
       "      <td>1</td>\n",
       "      <td>29</td>\n",
       "      <td>35</td>\n",
       "      <td>0.522667</td>\n",
       "      <td>0.147916</td>\n",
       "      <td>0.690223</td>\n",
       "      <td>0.192829</td>\n",
       "      <td>-0.290415</td>\n",
       "      <td>0.263737</td>\n",
       "      <td>0.661286</td>\n",
       "      <td>...</td>\n",
       "      <td>0.358390</td>\n",
       "      <td>0.391244</td>\n",
       "      <td>0.044475</td>\n",
       "      <td>0.044613</td>\n",
       "      <td>0.674605</td>\n",
       "      <td>0.028804</td>\n",
       "      <td>0.625804</td>\n",
       "      <td>0.383294</td>\n",
       "      <td>0.045570</td>\n",
       "      <td>0.040439</td>\n",
       "    </tr>\n",
       "  </tbody>\n",
       "</table>\n",
       "<p>5 rows × 21 columns</p>\n",
       "</div>"
      ],
      "text/plain": [
       "feature_name  video_id  start_frame  end_frame  joints_x_mean  joints_x_std  \\\n",
       "0                    1            1          7       0.501609      0.311639   \n",
       "1                    1            8         14       0.512939      0.219529   \n",
       "2                    1           15         21       0.518004      0.157802   \n",
       "3                    1           22         28       0.523399      0.149180   \n",
       "4                    1           29         35       0.522667      0.147916   \n",
       "\n",
       "feature_name  joints_y_mean  joints_y_std  joints_z_mean  joints_z_std  \\\n",
       "0                  0.769098      0.126312      -0.388854      0.346394   \n",
       "1                  0.680079      0.163863      -0.424323      0.374454   \n",
       "2                  0.664708      0.183265      -0.325135      0.298613   \n",
       "3                  0.693894      0.193820      -0.300252      0.272926   \n",
       "4                  0.690223      0.192829      -0.290415      0.263737   \n",
       "\n",
       "feature_name  left_tips_x_mean  ...  left_tips_y_mean  left_tips_y_std  \\\n",
       "0                     0.486560  ...          0.641197         0.289314   \n",
       "1                     0.723231  ...          0.119657         0.079117   \n",
       "2                     0.639712  ...          0.071650         0.052390   \n",
       "3                     0.677613  ...          0.696846         0.358881   \n",
       "4                     0.661286  ...          0.358390         0.391244   \n",
       "\n",
       "feature_name  left_tips_z_mean  left_tips_z_std  right_tips_x_mean  \\\n",
       "0                    -0.044394         0.020514           0.673981   \n",
       "1                    -0.011089         0.029442           0.539203   \n",
       "2                     0.065106         0.038930           0.683871   \n",
       "3                     0.054322         0.038271           0.662566   \n",
       "4                     0.044475         0.044613           0.674605   \n",
       "\n",
       "feature_name  right_tips_x_std  right_tips_y_mean  right_tips_y_std  \\\n",
       "0                     0.331375           0.787907          0.153233   \n",
       "1                     0.091240           0.875373          0.020643   \n",
       "2                     0.030990           0.899406          0.018319   \n",
       "3                     0.021753           0.300056          0.353334   \n",
       "4                     0.028804           0.625804          0.383294   \n",
       "\n",
       "feature_name  right_tips_z_mean  right_tips_z_std  \n",
       "0                      0.032333          0.119376  \n",
       "1                     -0.058394          0.042221  \n",
       "2                      0.025076          0.037063  \n",
       "3                      0.050873          0.044929  \n",
       "4                      0.045570          0.040439  \n",
       "\n",
       "[5 rows x 21 columns]"
      ]
     },
     "execution_count": 6,
     "metadata": {},
     "output_type": "execute_result"
    }
   ],
   "source": [
    "pivot.head()"
   ]
  },
  {
   "cell_type": "markdown",
   "id": "a8912d1a",
   "metadata": {},
   "source": [
    "# Save Feature Names Order\n",
    "\n",
    "for later use prediction"
   ]
  },
  {
   "cell_type": "code",
   "execution_count": 7,
   "id": "e0bf98d1",
   "metadata": {},
   "outputs": [],
   "source": [
    "feature_columns = pivot.columns.drop(['video_id', 'start_frame', 'end_frame']).tolist()\n",
    "\n",
    "with open(\"app/model/feature_order.json\", \"w\") as f:\n",
    "    json.dump(feature_columns, f)"
   ]
  },
  {
   "cell_type": "markdown",
   "id": "af7b3837",
   "metadata": {},
   "source": [
    "# Pulling Label from Video table and merging it"
   ]
  },
  {
   "cell_type": "code",
   "execution_count": 8,
   "id": "01ee8ddd",
   "metadata": {},
   "outputs": [],
   "source": [
    "videos = pd.read_sql('SELECT id, label FROM video', engine)\n",
    "data = pivot.merge(videos, left_on='video_id', right_on='id')"
   ]
  },
  {
   "cell_type": "code",
   "execution_count": 9,
   "id": "3d8204e9",
   "metadata": {},
   "outputs": [
    {
     "data": {
      "application/vnd.microsoft.datawrangler.viewer.v0+json": {
       "columns": [
        {
         "name": "index",
         "rawType": "int64",
         "type": "integer"
        },
        {
         "name": "video_id",
         "rawType": "int64",
         "type": "integer"
        },
        {
         "name": "start_frame",
         "rawType": "int64",
         "type": "integer"
        },
        {
         "name": "end_frame",
         "rawType": "int64",
         "type": "integer"
        },
        {
         "name": "joints_x_mean",
         "rawType": "float64",
         "type": "float"
        },
        {
         "name": "joints_x_std",
         "rawType": "float64",
         "type": "float"
        },
        {
         "name": "joints_y_mean",
         "rawType": "float64",
         "type": "float"
        },
        {
         "name": "joints_y_std",
         "rawType": "float64",
         "type": "float"
        },
        {
         "name": "joints_z_mean",
         "rawType": "float64",
         "type": "float"
        },
        {
         "name": "joints_z_std",
         "rawType": "float64",
         "type": "float"
        },
        {
         "name": "left_tips_x_mean",
         "rawType": "float64",
         "type": "float"
        },
        {
         "name": "left_tips_x_std",
         "rawType": "float64",
         "type": "float"
        },
        {
         "name": "left_tips_y_mean",
         "rawType": "float64",
         "type": "float"
        },
        {
         "name": "left_tips_y_std",
         "rawType": "float64",
         "type": "float"
        },
        {
         "name": "left_tips_z_mean",
         "rawType": "float64",
         "type": "float"
        },
        {
         "name": "left_tips_z_std",
         "rawType": "float64",
         "type": "float"
        },
        {
         "name": "right_tips_x_mean",
         "rawType": "float64",
         "type": "float"
        },
        {
         "name": "right_tips_x_std",
         "rawType": "float64",
         "type": "float"
        },
        {
         "name": "right_tips_y_mean",
         "rawType": "float64",
         "type": "float"
        },
        {
         "name": "right_tips_y_std",
         "rawType": "float64",
         "type": "float"
        },
        {
         "name": "right_tips_z_mean",
         "rawType": "float64",
         "type": "float"
        },
        {
         "name": "right_tips_z_std",
         "rawType": "float64",
         "type": "float"
        },
        {
         "name": "id",
         "rawType": "int64",
         "type": "integer"
        },
        {
         "name": "label",
         "rawType": "object",
         "type": "string"
        }
       ],
       "conversionMethod": "pd.DataFrame",
       "ref": "00456d01-1d4b-4eb0-b073-b9ba72a2176f",
       "rows": [
        [
         "0",
         "1",
         "1",
         "7",
         "0.5016089597096046",
         "0.3116392782776629",
         "0.7690983017285665",
         "0.12631175605234793",
         "-0.38885351591226125",
         "0.3463941398783958",
         "0.4865601006895304",
         "0.4200416278206162",
         "0.6411965668201447",
         "0.28931417445051133",
         "-0.04439442846924067",
         "0.02051413217471444",
         "0.6739806612332662",
         "0.3313747597370227",
         "0.7879065076510111",
         "0.15323260133785516",
         "0.032332550113399826",
         "0.11937601775492952",
         "1",
         "afternoon"
        ],
        [
         "1",
         "1",
         "8",
         "14",
         "0.5129387800892194",
         "0.21952913979571764",
         "0.6800792155166467",
         "0.16386298305109023",
         "-0.4243232936908801",
         "0.37445412188776517",
         "0.7232312858104706",
         "0.05539375565024439",
         "0.11965748816728591",
         "0.07911658981597913",
         "-0.011088716913945973",
         "0.029442081571088508",
         "0.5392026960849762",
         "0.09123958251858805",
         "0.8753728222846985",
         "0.020643285877518507",
         "-0.058394373245537284",
         "0.042221434480155993",
         "1",
         "afternoon"
        ],
        [
         "2",
         "1",
         "15",
         "21",
         "0.518004386789269",
         "0.15780246468413606",
         "0.6647080899112754",
         "0.18326549429893896",
         "-0.32513468405846246",
         "0.29861272163252944",
         "0.6397122383117676",
         "0.005388437907422226",
         "0.07164990802605947",
         "0.052389991240071605",
         "0.06510582694706196",
         "0.03892957608552512",
         "0.6838714599609375",
         "0.03099012935377645",
         "0.8994058012962342",
         "0.018319112955444427",
         "0.025075741076337484",
         "0.03706327386785605",
         "1",
         "afternoon"
        ],
        [
         "3",
         "1",
         "22",
         "28",
         "0.5233986601233482",
         "0.14918021087808",
         "0.6938935173675418",
         "0.19382017790028472",
         "-0.3002516774310304",
         "0.2729255161454057",
         "0.6776133447885513",
         "0.030946859709288344",
         "0.6968462716788053",
         "0.35888058565329856",
         "0.0543223320535617",
         "0.038270814584567395",
         "0.6625661551952362",
         "0.021752719334418292",
         "0.30005565732717515",
         "0.353334266365486",
         "0.050873040812439284",
         "0.04492867285019721",
         "1",
         "afternoon"
        ],
        [
         "4",
         "1",
         "29",
         "35",
         "0.5226671008600129",
         "0.14791563644783123",
         "0.6902233896156152",
         "0.19282926754129925",
         "-0.2904145296623837",
         "0.2637374709695509",
         "0.6612858374913534",
         "0.024966838468152758",
         "0.3583895926674207",
         "0.3912442164515936",
         "0.04447474693879485",
         "0.04461268967506343",
         "0.6746054689089457",
         "0.028803806271728395",
         "0.6258039260903995",
         "0.38329445929960915",
         "0.04556965495770176",
         "0.04043915559543262",
         "1",
         "afternoon"
        ]
       ],
       "shape": {
        "columns": 23,
        "rows": 5
       }
      },
      "text/html": [
       "<div>\n",
       "<style scoped>\n",
       "    .dataframe tbody tr th:only-of-type {\n",
       "        vertical-align: middle;\n",
       "    }\n",
       "\n",
       "    .dataframe tbody tr th {\n",
       "        vertical-align: top;\n",
       "    }\n",
       "\n",
       "    .dataframe thead th {\n",
       "        text-align: right;\n",
       "    }\n",
       "</style>\n",
       "<table border=\"1\" class=\"dataframe\">\n",
       "  <thead>\n",
       "    <tr style=\"text-align: right;\">\n",
       "      <th></th>\n",
       "      <th>video_id</th>\n",
       "      <th>start_frame</th>\n",
       "      <th>end_frame</th>\n",
       "      <th>joints_x_mean</th>\n",
       "      <th>joints_x_std</th>\n",
       "      <th>joints_y_mean</th>\n",
       "      <th>joints_y_std</th>\n",
       "      <th>joints_z_mean</th>\n",
       "      <th>joints_z_std</th>\n",
       "      <th>left_tips_x_mean</th>\n",
       "      <th>...</th>\n",
       "      <th>left_tips_z_mean</th>\n",
       "      <th>left_tips_z_std</th>\n",
       "      <th>right_tips_x_mean</th>\n",
       "      <th>right_tips_x_std</th>\n",
       "      <th>right_tips_y_mean</th>\n",
       "      <th>right_tips_y_std</th>\n",
       "      <th>right_tips_z_mean</th>\n",
       "      <th>right_tips_z_std</th>\n",
       "      <th>id</th>\n",
       "      <th>label</th>\n",
       "    </tr>\n",
       "  </thead>\n",
       "  <tbody>\n",
       "    <tr>\n",
       "      <th>0</th>\n",
       "      <td>1</td>\n",
       "      <td>1</td>\n",
       "      <td>7</td>\n",
       "      <td>0.501609</td>\n",
       "      <td>0.311639</td>\n",
       "      <td>0.769098</td>\n",
       "      <td>0.126312</td>\n",
       "      <td>-0.388854</td>\n",
       "      <td>0.346394</td>\n",
       "      <td>0.486560</td>\n",
       "      <td>...</td>\n",
       "      <td>-0.044394</td>\n",
       "      <td>0.020514</td>\n",
       "      <td>0.673981</td>\n",
       "      <td>0.331375</td>\n",
       "      <td>0.787907</td>\n",
       "      <td>0.153233</td>\n",
       "      <td>0.032333</td>\n",
       "      <td>0.119376</td>\n",
       "      <td>1</td>\n",
       "      <td>afternoon</td>\n",
       "    </tr>\n",
       "    <tr>\n",
       "      <th>1</th>\n",
       "      <td>1</td>\n",
       "      <td>8</td>\n",
       "      <td>14</td>\n",
       "      <td>0.512939</td>\n",
       "      <td>0.219529</td>\n",
       "      <td>0.680079</td>\n",
       "      <td>0.163863</td>\n",
       "      <td>-0.424323</td>\n",
       "      <td>0.374454</td>\n",
       "      <td>0.723231</td>\n",
       "      <td>...</td>\n",
       "      <td>-0.011089</td>\n",
       "      <td>0.029442</td>\n",
       "      <td>0.539203</td>\n",
       "      <td>0.091240</td>\n",
       "      <td>0.875373</td>\n",
       "      <td>0.020643</td>\n",
       "      <td>-0.058394</td>\n",
       "      <td>0.042221</td>\n",
       "      <td>1</td>\n",
       "      <td>afternoon</td>\n",
       "    </tr>\n",
       "    <tr>\n",
       "      <th>2</th>\n",
       "      <td>1</td>\n",
       "      <td>15</td>\n",
       "      <td>21</td>\n",
       "      <td>0.518004</td>\n",
       "      <td>0.157802</td>\n",
       "      <td>0.664708</td>\n",
       "      <td>0.183265</td>\n",
       "      <td>-0.325135</td>\n",
       "      <td>0.298613</td>\n",
       "      <td>0.639712</td>\n",
       "      <td>...</td>\n",
       "      <td>0.065106</td>\n",
       "      <td>0.038930</td>\n",
       "      <td>0.683871</td>\n",
       "      <td>0.030990</td>\n",
       "      <td>0.899406</td>\n",
       "      <td>0.018319</td>\n",
       "      <td>0.025076</td>\n",
       "      <td>0.037063</td>\n",
       "      <td>1</td>\n",
       "      <td>afternoon</td>\n",
       "    </tr>\n",
       "    <tr>\n",
       "      <th>3</th>\n",
       "      <td>1</td>\n",
       "      <td>22</td>\n",
       "      <td>28</td>\n",
       "      <td>0.523399</td>\n",
       "      <td>0.149180</td>\n",
       "      <td>0.693894</td>\n",
       "      <td>0.193820</td>\n",
       "      <td>-0.300252</td>\n",
       "      <td>0.272926</td>\n",
       "      <td>0.677613</td>\n",
       "      <td>...</td>\n",
       "      <td>0.054322</td>\n",
       "      <td>0.038271</td>\n",
       "      <td>0.662566</td>\n",
       "      <td>0.021753</td>\n",
       "      <td>0.300056</td>\n",
       "      <td>0.353334</td>\n",
       "      <td>0.050873</td>\n",
       "      <td>0.044929</td>\n",
       "      <td>1</td>\n",
       "      <td>afternoon</td>\n",
       "    </tr>\n",
       "    <tr>\n",
       "      <th>4</th>\n",
       "      <td>1</td>\n",
       "      <td>29</td>\n",
       "      <td>35</td>\n",
       "      <td>0.522667</td>\n",
       "      <td>0.147916</td>\n",
       "      <td>0.690223</td>\n",
       "      <td>0.192829</td>\n",
       "      <td>-0.290415</td>\n",
       "      <td>0.263737</td>\n",
       "      <td>0.661286</td>\n",
       "      <td>...</td>\n",
       "      <td>0.044475</td>\n",
       "      <td>0.044613</td>\n",
       "      <td>0.674605</td>\n",
       "      <td>0.028804</td>\n",
       "      <td>0.625804</td>\n",
       "      <td>0.383294</td>\n",
       "      <td>0.045570</td>\n",
       "      <td>0.040439</td>\n",
       "      <td>1</td>\n",
       "      <td>afternoon</td>\n",
       "    </tr>\n",
       "  </tbody>\n",
       "</table>\n",
       "<p>5 rows × 23 columns</p>\n",
       "</div>"
      ],
      "text/plain": [
       "   video_id  start_frame  end_frame  joints_x_mean  joints_x_std  \\\n",
       "0         1            1          7       0.501609      0.311639   \n",
       "1         1            8         14       0.512939      0.219529   \n",
       "2         1           15         21       0.518004      0.157802   \n",
       "3         1           22         28       0.523399      0.149180   \n",
       "4         1           29         35       0.522667      0.147916   \n",
       "\n",
       "   joints_y_mean  joints_y_std  joints_z_mean  joints_z_std  left_tips_x_mean  \\\n",
       "0       0.769098      0.126312      -0.388854      0.346394          0.486560   \n",
       "1       0.680079      0.163863      -0.424323      0.374454          0.723231   \n",
       "2       0.664708      0.183265      -0.325135      0.298613          0.639712   \n",
       "3       0.693894      0.193820      -0.300252      0.272926          0.677613   \n",
       "4       0.690223      0.192829      -0.290415      0.263737          0.661286   \n",
       "\n",
       "   ...  left_tips_z_mean  left_tips_z_std  right_tips_x_mean  \\\n",
       "0  ...         -0.044394         0.020514           0.673981   \n",
       "1  ...         -0.011089         0.029442           0.539203   \n",
       "2  ...          0.065106         0.038930           0.683871   \n",
       "3  ...          0.054322         0.038271           0.662566   \n",
       "4  ...          0.044475         0.044613           0.674605   \n",
       "\n",
       "   right_tips_x_std  right_tips_y_mean  right_tips_y_std  right_tips_z_mean  \\\n",
       "0          0.331375           0.787907          0.153233           0.032333   \n",
       "1          0.091240           0.875373          0.020643          -0.058394   \n",
       "2          0.030990           0.899406          0.018319           0.025076   \n",
       "3          0.021753           0.300056          0.353334           0.050873   \n",
       "4          0.028804           0.625804          0.383294           0.045570   \n",
       "\n",
       "   right_tips_z_std  id      label  \n",
       "0          0.119376   1  afternoon  \n",
       "1          0.042221   1  afternoon  \n",
       "2          0.037063   1  afternoon  \n",
       "3          0.044929   1  afternoon  \n",
       "4          0.040439   1  afternoon  \n",
       "\n",
       "[5 rows x 23 columns]"
      ]
     },
     "execution_count": 9,
     "metadata": {},
     "output_type": "execute_result"
    }
   ],
   "source": [
    "data.head()"
   ]
  },
  {
   "cell_type": "markdown",
   "id": "7f7e3ea1",
   "metadata": {},
   "source": [
    "# Create Time Series Tensor"
   ]
  },
  {
   "cell_type": "code",
   "execution_count": 10,
   "id": "b58c2522",
   "metadata": {},
   "outputs": [],
   "source": [
    "sequence_length = 5  # Kaç ardışık pencere bir örnek oluşturacak?\n",
    "\n",
    "samples = []\n",
    "labels = []\n",
    "\n",
    "for vid, group in data.groupby(\"video_id\"):\n",
    "    group = group.sort_values(\"start_frame\")\n",
    "    \n",
    "    # Etiketleri aynı kalacak şekilde sadece özellikleri al\n",
    "    feats = group.drop(columns=['video_id','start_frame','end_frame','id','label']).values\n",
    "    lbls = group['label'].values\n",
    "\n",
    "    # Kaydırmalı pencere üret\n",
    "    for i in range(len(feats) - sequence_length + 1):\n",
    "        window = feats[i:i+sequence_length]\n",
    "        label = lbls[i + sequence_length - 1]  # son pencerenin etiketi\n",
    "        samples.append(window)\n",
    "        labels.append(label)"
   ]
  },
  {
   "cell_type": "markdown",
   "id": "572c25f7",
   "metadata": {},
   "source": [
    "# Separate feature matrix and label vector"
   ]
  },
  {
   "cell_type": "code",
   "execution_count": 11,
   "id": "def49afb",
   "metadata": {},
   "outputs": [],
   "source": [
    "X = np.array(samples, dtype=np.float32)\n",
    "y_raw = np.array(labels)"
   ]
  },
  {
   "cell_type": "markdown",
   "id": "e90ebd6d",
   "metadata": {},
   "source": [
    "# Label encoder + one-hot"
   ]
  },
  {
   "cell_type": "code",
   "execution_count": 12,
   "id": "e51c538f",
   "metadata": {},
   "outputs": [],
   "source": [
    "le = LabelEncoder()\n",
    "y_int = le.fit_transform(y_raw)\n",
    "y = to_categorical(y_int)"
   ]
  },
  {
   "cell_type": "code",
   "execution_count": 13,
   "id": "8d771041",
   "metadata": {},
   "outputs": [
    {
     "name": "stdout",
     "output_type": "stream",
     "text": [
      "X.shape: (18446, 5, 18)\n",
      "y.shape: (18446, 11)\n"
     ]
    }
   ],
   "source": [
    "print(\"X.shape:\", X.shape)\n",
    "print(\"y.shape:\", y.shape)"
   ]
  },
  {
   "cell_type": "markdown",
   "id": "c4ee8fd4",
   "metadata": {},
   "source": [
    "# Scaling"
   ]
  },
  {
   "cell_type": "code",
   "execution_count": 14,
   "id": "bf92bb5a",
   "metadata": {},
   "outputs": [],
   "source": [
    "scaler = StandardScaler()\n",
    "X_reshaped = X.reshape(X.shape[0] * X.shape[1], -1)\n",
    "X_scaled = scaler.fit_transform(X_reshaped)\n",
    "X = X_scaled.reshape(X.shape[0], X.shape[1], -1)"
   ]
  },
  {
   "cell_type": "markdown",
   "id": "0b56c7c3",
   "metadata": {},
   "source": [
    "# Split Data into Train and Test Sets"
   ]
  },
  {
   "cell_type": "code",
   "execution_count": 15,
   "id": "e64452a8",
   "metadata": {},
   "outputs": [
    {
     "name": "stdout",
     "output_type": "stream",
     "text": [
      "Train set: (14756, 5, 18) (14756, 11)\n",
      "Test set: (3690, 5, 18) (3690, 11)\n"
     ]
    }
   ],
   "source": [
    "X_train, X_test, y_train, y_test = train_test_split(\n",
    "    X, y, test_size=0.2, random_state=42, stratify=y_int\n",
    ")\n",
    "\n",
    "print(\"Train set:\", X_train.shape, y_train.shape)\n",
    "print(\"Test set:\", X_test.shape, y_test.shape)"
   ]
  },
  {
   "cell_type": "markdown",
   "id": "c8763ef8",
   "metadata": {},
   "source": [
    "# Configure Tensorboard"
   ]
  },
  {
   "cell_type": "code",
   "execution_count": 16,
   "id": "28571a21",
   "metadata": {},
   "outputs": [
    {
     "name": "stderr",
     "output_type": "stream",
     "text": [
      "I0000 00:00:1747049106.809773  321660 gpu_device.cc:2022] Created device /job:localhost/replica:0/task:0/device:GPU:0 with 2152 MB memory:  -> device: 0, name: NVIDIA GeForce RTX 3050 Laptop GPU, pci bus id: 0000:01:00.0, compute capability: 8.6\n"
     ]
    }
   ],
   "source": [
    "log_dir = \"log/\" + tf.timestamp().numpy().astype(str)\n",
    "tensorboard = TensorBoard(log_dir=log_dir, histogram_freq=1)\n",
    "\n",
    "# Clear any logs from previous runs\n",
    "# !rm -rf ./log/"
   ]
  },
  {
   "cell_type": "markdown",
   "id": "c8031f62",
   "metadata": {},
   "source": [
    "# Build LSTM Model"
   ]
  },
  {
   "cell_type": "code",
   "execution_count": 17,
   "id": "75069ea0",
   "metadata": {},
   "outputs": [],
   "source": [
    "input_timesteps = X_train.shape[1]     # sequence length (örnek: 5)\n",
    "input_features = X_train.shape[2]      # feature sayısı (örnek: 18 veya daha fazla)\n",
    "num_classes = y_train.shape[1]         # sınıf sayısı (örnek: 11)"
   ]
  },
  {
   "cell_type": "code",
   "execution_count": 18,
   "id": "c4ad9f70",
   "metadata": {},
   "outputs": [],
   "source": [
    "input_layer = Input(shape=(input_timesteps, input_features))\n",
    "x = LSTM(128, return_sequences=True, name=\"lstm_1\")(input_layer)\n",
    "x = Dropout(0.3)(x)\n",
    "x = BatchNormalization()(x)\n",
    "x = LSTM(64, name=\"lstm_2\")(x)\n",
    "x = Dropout(0.3)(x)\n",
    "x = BatchNormalization()(x)\n",
    "x = Dense(64, activation=\"relu\")(x)\n",
    "x = Dropout(0.3)(x)\n",
    "output_layer = Dense(num_classes, activation=\"softmax\")(x)\n",
    "\n",
    "model = Model(inputs=input_layer, outputs=output_layer)"
   ]
  },
  {
   "cell_type": "markdown",
   "id": "4b2a2de6",
   "metadata": {},
   "source": [
    "# Compile Model"
   ]
  },
  {
   "cell_type": "code",
   "execution_count": 19,
   "id": "434e942b",
   "metadata": {},
   "outputs": [],
   "source": [
    "model.compile(\n",
    "    loss='categorical_crossentropy',\n",
    "    optimizer=Adam(learning_rate=0.001),\n",
    "    metrics=['accuracy']\n",
    ")"
   ]
  },
  {
   "cell_type": "code",
   "execution_count": 20,
   "id": "e90fd571",
   "metadata": {},
   "outputs": [
    {
     "data": {
      "text/html": [
       "<pre style=\"white-space:pre;overflow-x:auto;line-height:normal;font-family:Menlo,'DejaVu Sans Mono',consolas,'Courier New',monospace\"><span style=\"font-weight: bold\">Model: \"functional\"</span>\n",
       "</pre>\n"
      ],
      "text/plain": [
       "\u001b[1mModel: \"functional\"\u001b[0m\n"
      ]
     },
     "metadata": {},
     "output_type": "display_data"
    },
    {
     "data": {
      "text/html": [
       "<pre style=\"white-space:pre;overflow-x:auto;line-height:normal;font-family:Menlo,'DejaVu Sans Mono',consolas,'Courier New',monospace\">┏━━━━━━━━━━━━━━━━━━━━━━━━━━━━━━━━━┳━━━━━━━━━━━━━━━━━━━━━━━━┳━━━━━━━━━━━━━━━┓\n",
       "┃<span style=\"font-weight: bold\"> Layer (type)                    </span>┃<span style=\"font-weight: bold\"> Output Shape           </span>┃<span style=\"font-weight: bold\">       Param # </span>┃\n",
       "┡━━━━━━━━━━━━━━━━━━━━━━━━━━━━━━━━━╇━━━━━━━━━━━━━━━━━━━━━━━━╇━━━━━━━━━━━━━━━┩\n",
       "│ input_layer (<span style=\"color: #0087ff; text-decoration-color: #0087ff\">InputLayer</span>)        │ (<span style=\"color: #00d7ff; text-decoration-color: #00d7ff\">None</span>, <span style=\"color: #00af00; text-decoration-color: #00af00\">5</span>, <span style=\"color: #00af00; text-decoration-color: #00af00\">18</span>)          │             <span style=\"color: #00af00; text-decoration-color: #00af00\">0</span> │\n",
       "├─────────────────────────────────┼────────────────────────┼───────────────┤\n",
       "│ lstm_1 (<span style=\"color: #0087ff; text-decoration-color: #0087ff\">LSTM</span>)                   │ (<span style=\"color: #00d7ff; text-decoration-color: #00d7ff\">None</span>, <span style=\"color: #00af00; text-decoration-color: #00af00\">5</span>, <span style=\"color: #00af00; text-decoration-color: #00af00\">128</span>)         │        <span style=\"color: #00af00; text-decoration-color: #00af00\">75,264</span> │\n",
       "├─────────────────────────────────┼────────────────────────┼───────────────┤\n",
       "│ dropout (<span style=\"color: #0087ff; text-decoration-color: #0087ff\">Dropout</span>)               │ (<span style=\"color: #00d7ff; text-decoration-color: #00d7ff\">None</span>, <span style=\"color: #00af00; text-decoration-color: #00af00\">5</span>, <span style=\"color: #00af00; text-decoration-color: #00af00\">128</span>)         │             <span style=\"color: #00af00; text-decoration-color: #00af00\">0</span> │\n",
       "├─────────────────────────────────┼────────────────────────┼───────────────┤\n",
       "│ batch_normalization             │ (<span style=\"color: #00d7ff; text-decoration-color: #00d7ff\">None</span>, <span style=\"color: #00af00; text-decoration-color: #00af00\">5</span>, <span style=\"color: #00af00; text-decoration-color: #00af00\">128</span>)         │           <span style=\"color: #00af00; text-decoration-color: #00af00\">512</span> │\n",
       "│ (<span style=\"color: #0087ff; text-decoration-color: #0087ff\">BatchNormalization</span>)            │                        │               │\n",
       "├─────────────────────────────────┼────────────────────────┼───────────────┤\n",
       "│ lstm_2 (<span style=\"color: #0087ff; text-decoration-color: #0087ff\">LSTM</span>)                   │ (<span style=\"color: #00d7ff; text-decoration-color: #00d7ff\">None</span>, <span style=\"color: #00af00; text-decoration-color: #00af00\">64</span>)             │        <span style=\"color: #00af00; text-decoration-color: #00af00\">49,408</span> │\n",
       "├─────────────────────────────────┼────────────────────────┼───────────────┤\n",
       "│ dropout_1 (<span style=\"color: #0087ff; text-decoration-color: #0087ff\">Dropout</span>)             │ (<span style=\"color: #00d7ff; text-decoration-color: #00d7ff\">None</span>, <span style=\"color: #00af00; text-decoration-color: #00af00\">64</span>)             │             <span style=\"color: #00af00; text-decoration-color: #00af00\">0</span> │\n",
       "├─────────────────────────────────┼────────────────────────┼───────────────┤\n",
       "│ batch_normalization_1           │ (<span style=\"color: #00d7ff; text-decoration-color: #00d7ff\">None</span>, <span style=\"color: #00af00; text-decoration-color: #00af00\">64</span>)             │           <span style=\"color: #00af00; text-decoration-color: #00af00\">256</span> │\n",
       "│ (<span style=\"color: #0087ff; text-decoration-color: #0087ff\">BatchNormalization</span>)            │                        │               │\n",
       "├─────────────────────────────────┼────────────────────────┼───────────────┤\n",
       "│ dense (<span style=\"color: #0087ff; text-decoration-color: #0087ff\">Dense</span>)                   │ (<span style=\"color: #00d7ff; text-decoration-color: #00d7ff\">None</span>, <span style=\"color: #00af00; text-decoration-color: #00af00\">64</span>)             │         <span style=\"color: #00af00; text-decoration-color: #00af00\">4,160</span> │\n",
       "├─────────────────────────────────┼────────────────────────┼───────────────┤\n",
       "│ dropout_2 (<span style=\"color: #0087ff; text-decoration-color: #0087ff\">Dropout</span>)             │ (<span style=\"color: #00d7ff; text-decoration-color: #00d7ff\">None</span>, <span style=\"color: #00af00; text-decoration-color: #00af00\">64</span>)             │             <span style=\"color: #00af00; text-decoration-color: #00af00\">0</span> │\n",
       "├─────────────────────────────────┼────────────────────────┼───────────────┤\n",
       "│ dense_1 (<span style=\"color: #0087ff; text-decoration-color: #0087ff\">Dense</span>)                 │ (<span style=\"color: #00d7ff; text-decoration-color: #00d7ff\">None</span>, <span style=\"color: #00af00; text-decoration-color: #00af00\">11</span>)             │           <span style=\"color: #00af00; text-decoration-color: #00af00\">715</span> │\n",
       "└─────────────────────────────────┴────────────────────────┴───────────────┘\n",
       "</pre>\n"
      ],
      "text/plain": [
       "┏━━━━━━━━━━━━━━━━━━━━━━━━━━━━━━━━━┳━━━━━━━━━━━━━━━━━━━━━━━━┳━━━━━━━━━━━━━━━┓\n",
       "┃\u001b[1m \u001b[0m\u001b[1mLayer (type)                   \u001b[0m\u001b[1m \u001b[0m┃\u001b[1m \u001b[0m\u001b[1mOutput Shape          \u001b[0m\u001b[1m \u001b[0m┃\u001b[1m \u001b[0m\u001b[1m      Param #\u001b[0m\u001b[1m \u001b[0m┃\n",
       "┡━━━━━━━━━━━━━━━━━━━━━━━━━━━━━━━━━╇━━━━━━━━━━━━━━━━━━━━━━━━╇━━━━━━━━━━━━━━━┩\n",
       "│ input_layer (\u001b[38;5;33mInputLayer\u001b[0m)        │ (\u001b[38;5;45mNone\u001b[0m, \u001b[38;5;34m5\u001b[0m, \u001b[38;5;34m18\u001b[0m)          │             \u001b[38;5;34m0\u001b[0m │\n",
       "├─────────────────────────────────┼────────────────────────┼───────────────┤\n",
       "│ lstm_1 (\u001b[38;5;33mLSTM\u001b[0m)                   │ (\u001b[38;5;45mNone\u001b[0m, \u001b[38;5;34m5\u001b[0m, \u001b[38;5;34m128\u001b[0m)         │        \u001b[38;5;34m75,264\u001b[0m │\n",
       "├─────────────────────────────────┼────────────────────────┼───────────────┤\n",
       "│ dropout (\u001b[38;5;33mDropout\u001b[0m)               │ (\u001b[38;5;45mNone\u001b[0m, \u001b[38;5;34m5\u001b[0m, \u001b[38;5;34m128\u001b[0m)         │             \u001b[38;5;34m0\u001b[0m │\n",
       "├─────────────────────────────────┼────────────────────────┼───────────────┤\n",
       "│ batch_normalization             │ (\u001b[38;5;45mNone\u001b[0m, \u001b[38;5;34m5\u001b[0m, \u001b[38;5;34m128\u001b[0m)         │           \u001b[38;5;34m512\u001b[0m │\n",
       "│ (\u001b[38;5;33mBatchNormalization\u001b[0m)            │                        │               │\n",
       "├─────────────────────────────────┼────────────────────────┼───────────────┤\n",
       "│ lstm_2 (\u001b[38;5;33mLSTM\u001b[0m)                   │ (\u001b[38;5;45mNone\u001b[0m, \u001b[38;5;34m64\u001b[0m)             │        \u001b[38;5;34m49,408\u001b[0m │\n",
       "├─────────────────────────────────┼────────────────────────┼───────────────┤\n",
       "│ dropout_1 (\u001b[38;5;33mDropout\u001b[0m)             │ (\u001b[38;5;45mNone\u001b[0m, \u001b[38;5;34m64\u001b[0m)             │             \u001b[38;5;34m0\u001b[0m │\n",
       "├─────────────────────────────────┼────────────────────────┼───────────────┤\n",
       "│ batch_normalization_1           │ (\u001b[38;5;45mNone\u001b[0m, \u001b[38;5;34m64\u001b[0m)             │           \u001b[38;5;34m256\u001b[0m │\n",
       "│ (\u001b[38;5;33mBatchNormalization\u001b[0m)            │                        │               │\n",
       "├─────────────────────────────────┼────────────────────────┼───────────────┤\n",
       "│ dense (\u001b[38;5;33mDense\u001b[0m)                   │ (\u001b[38;5;45mNone\u001b[0m, \u001b[38;5;34m64\u001b[0m)             │         \u001b[38;5;34m4,160\u001b[0m │\n",
       "├─────────────────────────────────┼────────────────────────┼───────────────┤\n",
       "│ dropout_2 (\u001b[38;5;33mDropout\u001b[0m)             │ (\u001b[38;5;45mNone\u001b[0m, \u001b[38;5;34m64\u001b[0m)             │             \u001b[38;5;34m0\u001b[0m │\n",
       "├─────────────────────────────────┼────────────────────────┼───────────────┤\n",
       "│ dense_1 (\u001b[38;5;33mDense\u001b[0m)                 │ (\u001b[38;5;45mNone\u001b[0m, \u001b[38;5;34m11\u001b[0m)             │           \u001b[38;5;34m715\u001b[0m │\n",
       "└─────────────────────────────────┴────────────────────────┴───────────────┘\n"
      ]
     },
     "metadata": {},
     "output_type": "display_data"
    },
    {
     "data": {
      "text/html": [
       "<pre style=\"white-space:pre;overflow-x:auto;line-height:normal;font-family:Menlo,'DejaVu Sans Mono',consolas,'Courier New',monospace\"><span style=\"font-weight: bold\"> Total params: </span><span style=\"color: #00af00; text-decoration-color: #00af00\">130,315</span> (509.04 KB)\n",
       "</pre>\n"
      ],
      "text/plain": [
       "\u001b[1m Total params: \u001b[0m\u001b[38;5;34m130,315\u001b[0m (509.04 KB)\n"
      ]
     },
     "metadata": {},
     "output_type": "display_data"
    },
    {
     "data": {
      "text/html": [
       "<pre style=\"white-space:pre;overflow-x:auto;line-height:normal;font-family:Menlo,'DejaVu Sans Mono',consolas,'Courier New',monospace\"><span style=\"font-weight: bold\"> Trainable params: </span><span style=\"color: #00af00; text-decoration-color: #00af00\">129,931</span> (507.54 KB)\n",
       "</pre>\n"
      ],
      "text/plain": [
       "\u001b[1m Trainable params: \u001b[0m\u001b[38;5;34m129,931\u001b[0m (507.54 KB)\n"
      ]
     },
     "metadata": {},
     "output_type": "display_data"
    },
    {
     "data": {
      "text/html": [
       "<pre style=\"white-space:pre;overflow-x:auto;line-height:normal;font-family:Menlo,'DejaVu Sans Mono',consolas,'Courier New',monospace\"><span style=\"font-weight: bold\"> Non-trainable params: </span><span style=\"color: #00af00; text-decoration-color: #00af00\">384</span> (1.50 KB)\n",
       "</pre>\n"
      ],
      "text/plain": [
       "\u001b[1m Non-trainable params: \u001b[0m\u001b[38;5;34m384\u001b[0m (1.50 KB)\n"
      ]
     },
     "metadata": {},
     "output_type": "display_data"
    }
   ],
   "source": [
    "model.summary()"
   ]
  },
  {
   "cell_type": "markdown",
   "id": "d7817335",
   "metadata": {},
   "source": [
    "# Set Callbacks"
   ]
  },
  {
   "cell_type": "code",
   "execution_count": 21,
   "id": "996c95c4",
   "metadata": {},
   "outputs": [],
   "source": [
    "callbacks = [\n",
    "    ModelCheckpoint(\n",
    "        filepath='app/model/sign_language_recognition.keras',\n",
    "        save_best_only=True,\n",
    "        monitor='val_loss',\n",
    "        mode='min',\n",
    "        verbose=1\n",
    "    ),\n",
    "    ReduceLROnPlateau(patience=5, factor=0.5, verbose=1),\n",
    "    EarlyStopping(patience=10, restore_best_weights=True),\n",
    "    tensorboard\n",
    "]"
   ]
  },
  {
   "cell_type": "markdown",
   "id": "5047ca36",
   "metadata": {},
   "source": [
    "# Start Tensorboard"
   ]
  },
  {
   "cell_type": "code",
   "execution_count": 23,
   "id": "85133562",
   "metadata": {},
   "outputs": [
    {
     "name": "stdout",
     "output_type": "stream",
     "text": [
      "The tensorboard extension is already loaded. To reload it, use:\n",
      "  %reload_ext tensorboard\n"
     ]
    },
    {
     "data": {
      "text/plain": [
       "Reusing TensorBoard on port 6006 (pid 321968), started 0:00:02 ago. (Use '!kill 321968' to kill it.)"
      ]
     },
     "metadata": {},
     "output_type": "display_data"
    },
    {
     "data": {
      "text/html": [
       "\n",
       "      <iframe id=\"tensorboard-frame-446d60c138231739\" width=\"100%\" height=\"800\" frameborder=\"0\">\n",
       "      </iframe>\n",
       "      <script>\n",
       "        (function() {\n",
       "          const frame = document.getElementById(\"tensorboard-frame-446d60c138231739\");\n",
       "          const url = new URL(\"http://localhost\");\n",
       "          const port = 6006;\n",
       "          if (port) {\n",
       "            url.port = port;\n",
       "          }\n",
       "          frame.src = url;\n",
       "        })();\n",
       "      </script>\n",
       "    "
      ],
      "text/plain": [
       "<IPython.core.display.HTML object>"
      ]
     },
     "metadata": {},
     "output_type": "display_data"
    }
   ],
   "source": [
    "%load_ext tensorboard\n",
    "%tensorboard --logdir=log/"
   ]
  },
  {
   "cell_type": "markdown",
   "id": "fc31a8b6",
   "metadata": {},
   "source": [
    "# Train Model"
   ]
  },
  {
   "cell_type": "code",
   "execution_count": 24,
   "id": "415e4780",
   "metadata": {},
   "outputs": [
    {
     "name": "stdout",
     "output_type": "stream",
     "text": [
      "Epoch 1/150\n"
     ]
    },
    {
     "name": "stderr",
     "output_type": "stream",
     "text": [
      "I0000 00:00:1747049164.631259  321914 cuda_dnn.cc:529] Loaded cuDNN version 90300\n"
     ]
    },
    {
     "name": "stdout",
     "output_type": "stream",
     "text": [
      "\u001b[1m365/369\u001b[0m \u001b[32m━━━━━━━━━━━━━━━━━━━\u001b[0m\u001b[37m━\u001b[0m \u001b[1m0s\u001b[0m 6ms/step - accuracy: 0.6286 - loss: 1.1818\n",
      "Epoch 1: val_loss improved from inf to 0.22306, saving model to app/model/sign_language_recognition.keras\n",
      "\u001b[1m369/369\u001b[0m \u001b[32m━━━━━━━━━━━━━━━━━━━━\u001b[0m\u001b[37m\u001b[0m \u001b[1m5s\u001b[0m 8ms/step - accuracy: 0.6305 - loss: 1.1758 - val_accuracy: 0.9262 - val_loss: 0.2231 - learning_rate: 0.0010\n",
      "Epoch 2/150\n",
      "\u001b[1m364/369\u001b[0m \u001b[32m━━━━━━━━━━━━━━━━━━━\u001b[0m\u001b[37m━\u001b[0m \u001b[1m0s\u001b[0m 6ms/step - accuracy: 0.8893 - loss: 0.3335\n",
      "Epoch 2: val_loss improved from 0.22306 to 0.14672, saving model to app/model/sign_language_recognition.keras\n",
      "\u001b[1m369/369\u001b[0m \u001b[32m━━━━━━━━━━━━━━━━━━━━\u001b[0m\u001b[37m\u001b[0m \u001b[1m3s\u001b[0m 7ms/step - accuracy: 0.8895 - loss: 0.3330 - val_accuracy: 0.9468 - val_loss: 0.1467 - learning_rate: 0.0010\n",
      "Epoch 3/150\n",
      "\u001b[1m362/369\u001b[0m \u001b[32m━━━━━━━━━━━━━━━━━━━\u001b[0m\u001b[37m━\u001b[0m \u001b[1m0s\u001b[0m 6ms/step - accuracy: 0.9244 - loss: 0.2429\n",
      "Epoch 3: val_loss improved from 0.14672 to 0.11422, saving model to app/model/sign_language_recognition.keras\n",
      "\u001b[1m369/369\u001b[0m \u001b[32m━━━━━━━━━━━━━━━━━━━━\u001b[0m\u001b[37m\u001b[0m \u001b[1m2s\u001b[0m 7ms/step - accuracy: 0.9244 - loss: 0.2427 - val_accuracy: 0.9560 - val_loss: 0.1142 - learning_rate: 0.0010\n",
      "Epoch 4/150\n",
      "\u001b[1m366/369\u001b[0m \u001b[32m━━━━━━━━━━━━━━━━━━━\u001b[0m\u001b[37m━\u001b[0m \u001b[1m0s\u001b[0m 6ms/step - accuracy: 0.9326 - loss: 0.1975\n",
      "Epoch 4: val_loss improved from 0.11422 to 0.11357, saving model to app/model/sign_language_recognition.keras\n",
      "\u001b[1m369/369\u001b[0m \u001b[32m━━━━━━━━━━━━━━━━━━━━\u001b[0m\u001b[37m\u001b[0m \u001b[1m3s\u001b[0m 7ms/step - accuracy: 0.9326 - loss: 0.1975 - val_accuracy: 0.9597 - val_loss: 0.1136 - learning_rate: 0.0010\n",
      "Epoch 5/150\n",
      "\u001b[1m367/369\u001b[0m \u001b[32m━━━━━━━━━━━━━━━━━━━\u001b[0m\u001b[37m━\u001b[0m \u001b[1m0s\u001b[0m 5ms/step - accuracy: 0.9450 - loss: 0.1834\n",
      "Epoch 5: val_loss did not improve from 0.11357\n",
      "\u001b[1m369/369\u001b[0m \u001b[32m━━━━━━━━━━━━━━━━━━━━\u001b[0m\u001b[37m\u001b[0m \u001b[1m2s\u001b[0m 6ms/step - accuracy: 0.9450 - loss: 0.1834 - val_accuracy: 0.9583 - val_loss: 0.1146 - learning_rate: 0.0010\n",
      "Epoch 6/150\n",
      "\u001b[1m362/369\u001b[0m \u001b[32m━━━━━━━━━━━━━━━━━━━\u001b[0m\u001b[37m━\u001b[0m \u001b[1m0s\u001b[0m 6ms/step - accuracy: 0.9456 - loss: 0.1621\n",
      "Epoch 6: val_loss improved from 0.11357 to 0.09228, saving model to app/model/sign_language_recognition.keras\n",
      "\u001b[1m369/369\u001b[0m \u001b[32m━━━━━━━━━━━━━━━━━━━━\u001b[0m\u001b[37m\u001b[0m \u001b[1m2s\u001b[0m 7ms/step - accuracy: 0.9456 - loss: 0.1619 - val_accuracy: 0.9685 - val_loss: 0.0923 - learning_rate: 0.0010\n",
      "Epoch 7/150\n",
      "\u001b[1m369/369\u001b[0m \u001b[32m━━━━━━━━━━━━━━━━━━━━\u001b[0m\u001b[37m\u001b[0m \u001b[1m0s\u001b[0m 6ms/step - accuracy: 0.9504 - loss: 0.1481\n",
      "Epoch 7: val_loss did not improve from 0.09228\n",
      "\u001b[1m369/369\u001b[0m \u001b[32m━━━━━━━━━━━━━━━━━━━━\u001b[0m\u001b[37m\u001b[0m \u001b[1m3s\u001b[0m 7ms/step - accuracy: 0.9504 - loss: 0.1481 - val_accuracy: 0.9641 - val_loss: 0.0992 - learning_rate: 0.0010\n",
      "Epoch 8/150\n",
      "\u001b[1m369/369\u001b[0m \u001b[32m━━━━━━━━━━━━━━━━━━━━\u001b[0m\u001b[37m\u001b[0m \u001b[1m0s\u001b[0m 6ms/step - accuracy: 0.9557 - loss: 0.1382\n",
      "Epoch 8: val_loss did not improve from 0.09228\n",
      "\u001b[1m369/369\u001b[0m \u001b[32m━━━━━━━━━━━━━━━━━━━━\u001b[0m\u001b[37m\u001b[0m \u001b[1m2s\u001b[0m 7ms/step - accuracy: 0.9557 - loss: 0.1382 - val_accuracy: 0.9671 - val_loss: 0.0986 - learning_rate: 0.0010\n",
      "Epoch 9/150\n",
      "\u001b[1m364/369\u001b[0m \u001b[32m━━━━━━━━━━━━━━━━━━━\u001b[0m\u001b[37m━\u001b[0m \u001b[1m0s\u001b[0m 6ms/step - accuracy: 0.9542 - loss: 0.1382\n",
      "Epoch 9: val_loss did not improve from 0.09228\n",
      "\u001b[1m369/369\u001b[0m \u001b[32m━━━━━━━━━━━━━━━━━━━━\u001b[0m\u001b[37m\u001b[0m \u001b[1m2s\u001b[0m 6ms/step - accuracy: 0.9542 - loss: 0.1381 - val_accuracy: 0.9675 - val_loss: 0.1030 - learning_rate: 0.0010\n",
      "Epoch 10/150\n",
      "\u001b[1m369/369\u001b[0m \u001b[32m━━━━━━━━━━━━━━━━━━━━\u001b[0m\u001b[37m\u001b[0m \u001b[1m0s\u001b[0m 6ms/step - accuracy: 0.9594 - loss: 0.1203\n",
      "Epoch 10: val_loss improved from 0.09228 to 0.08771, saving model to app/model/sign_language_recognition.keras\n",
      "\u001b[1m369/369\u001b[0m \u001b[32m━━━━━━━━━━━━━━━━━━━━\u001b[0m\u001b[37m\u001b[0m \u001b[1m2s\u001b[0m 7ms/step - accuracy: 0.9594 - loss: 0.1203 - val_accuracy: 0.9699 - val_loss: 0.0877 - learning_rate: 0.0010\n",
      "Epoch 11/150\n",
      "\u001b[1m363/369\u001b[0m \u001b[32m━━━━━━━━━━━━━━━━━━━\u001b[0m\u001b[37m━\u001b[0m \u001b[1m0s\u001b[0m 6ms/step - accuracy: 0.9596 - loss: 0.1303\n",
      "Epoch 11: val_loss did not improve from 0.08771\n",
      "\u001b[1m369/369\u001b[0m \u001b[32m━━━━━━━━━━━━━━━━━━━━\u001b[0m\u001b[37m\u001b[0m \u001b[1m2s\u001b[0m 7ms/step - accuracy: 0.9596 - loss: 0.1301 - val_accuracy: 0.9570 - val_loss: 0.1192 - learning_rate: 0.0010\n",
      "Epoch 12/150\n",
      "\u001b[1m367/369\u001b[0m \u001b[32m━━━━━━━━━━━━━━━━━━━\u001b[0m\u001b[37m━\u001b[0m \u001b[1m0s\u001b[0m 6ms/step - accuracy: 0.9656 - loss: 0.0990\n",
      "Epoch 12: val_loss improved from 0.08771 to 0.07390, saving model to app/model/sign_language_recognition.keras\n",
      "\u001b[1m369/369\u001b[0m \u001b[32m━━━━━━━━━━━━━━━━━━━━\u001b[0m\u001b[37m\u001b[0m \u001b[1m3s\u001b[0m 7ms/step - accuracy: 0.9656 - loss: 0.0990 - val_accuracy: 0.9743 - val_loss: 0.0739 - learning_rate: 0.0010\n",
      "Epoch 13/150\n",
      "\u001b[1m369/369\u001b[0m \u001b[32m━━━━━━━━━━━━━━━━━━━━\u001b[0m\u001b[37m\u001b[0m \u001b[1m0s\u001b[0m 6ms/step - accuracy: 0.9683 - loss: 0.0979\n",
      "Epoch 13: val_loss improved from 0.07390 to 0.06465, saving model to app/model/sign_language_recognition.keras\n",
      "\u001b[1m369/369\u001b[0m \u001b[32m━━━━━━━━━━━━━━━━━━━━\u001b[0m\u001b[37m\u001b[0m \u001b[1m2s\u001b[0m 7ms/step - accuracy: 0.9683 - loss: 0.0979 - val_accuracy: 0.9763 - val_loss: 0.0647 - learning_rate: 0.0010\n",
      "Epoch 14/150\n",
      "\u001b[1m361/369\u001b[0m \u001b[32m━━━━━━━━━━━━━━━━━━━\u001b[0m\u001b[37m━\u001b[0m \u001b[1m0s\u001b[0m 6ms/step - accuracy: 0.9718 - loss: 0.0857\n",
      "Epoch 14: val_loss did not improve from 0.06465\n",
      "\u001b[1m369/369\u001b[0m \u001b[32m━━━━━━━━━━━━━━━━━━━━\u001b[0m\u001b[37m\u001b[0m \u001b[1m3s\u001b[0m 7ms/step - accuracy: 0.9717 - loss: 0.0859 - val_accuracy: 0.9729 - val_loss: 0.0741 - learning_rate: 0.0010\n",
      "Epoch 15/150\n",
      "\u001b[1m363/369\u001b[0m \u001b[32m━━━━━━━━━━━━━━━━━━━\u001b[0m\u001b[37m━\u001b[0m \u001b[1m0s\u001b[0m 6ms/step - accuracy: 0.9697 - loss: 0.0872\n",
      "Epoch 15: val_loss did not improve from 0.06465\n",
      "\u001b[1m369/369\u001b[0m \u001b[32m━━━━━━━━━━━━━━━━━━━━\u001b[0m\u001b[37m\u001b[0m \u001b[1m2s\u001b[0m 6ms/step - accuracy: 0.9697 - loss: 0.0872 - val_accuracy: 0.9671 - val_loss: 0.0894 - learning_rate: 0.0010\n",
      "Epoch 16/150\n",
      "\u001b[1m362/369\u001b[0m \u001b[32m━━━━━━━━━━━━━━━━━━━\u001b[0m\u001b[37m━\u001b[0m \u001b[1m0s\u001b[0m 6ms/step - accuracy: 0.9683 - loss: 0.0996\n",
      "Epoch 16: val_loss did not improve from 0.06465\n",
      "\u001b[1m369/369\u001b[0m \u001b[32m━━━━━━━━━━━━━━━━━━━━\u001b[0m\u001b[37m\u001b[0m \u001b[1m3s\u001b[0m 7ms/step - accuracy: 0.9683 - loss: 0.0995 - val_accuracy: 0.9746 - val_loss: 0.0743 - learning_rate: 0.0010\n",
      "Epoch 17/150\n",
      "\u001b[1m366/369\u001b[0m \u001b[32m━━━━━━━━━━━━━━━━━━━\u001b[0m\u001b[37m━\u001b[0m \u001b[1m0s\u001b[0m 6ms/step - accuracy: 0.9714 - loss: 0.0932\n",
      "Epoch 17: val_loss did not improve from 0.06465\n",
      "\u001b[1m369/369\u001b[0m \u001b[32m━━━━━━━━━━━━━━━━━━━━\u001b[0m\u001b[37m\u001b[0m \u001b[1m2s\u001b[0m 7ms/step - accuracy: 0.9714 - loss: 0.0931 - val_accuracy: 0.9756 - val_loss: 0.0686 - learning_rate: 0.0010\n",
      "Epoch 18/150\n",
      "\u001b[1m363/369\u001b[0m \u001b[32m━━━━━━━━━━━━━━━━━━━\u001b[0m\u001b[37m━\u001b[0m \u001b[1m0s\u001b[0m 6ms/step - accuracy: 0.9746 - loss: 0.0732\n",
      "Epoch 18: val_loss did not improve from 0.06465\n",
      "\n",
      "Epoch 18: ReduceLROnPlateau reducing learning rate to 0.0005000000237487257.\n",
      "\u001b[1m369/369\u001b[0m \u001b[32m━━━━━━━━━━━━━━━━━━━━\u001b[0m\u001b[37m\u001b[0m \u001b[1m3s\u001b[0m 7ms/step - accuracy: 0.9746 - loss: 0.0733 - val_accuracy: 0.9668 - val_loss: 0.0910 - learning_rate: 0.0010\n",
      "Epoch 19/150\n",
      "\u001b[1m368/369\u001b[0m \u001b[32m━━━━━━━━━━━━━━━━━━━\u001b[0m\u001b[37m━\u001b[0m \u001b[1m0s\u001b[0m 6ms/step - accuracy: 0.9786 - loss: 0.0697\n",
      "Epoch 19: val_loss improved from 0.06465 to 0.05374, saving model to app/model/sign_language_recognition.keras\n",
      "\u001b[1m369/369\u001b[0m \u001b[32m━━━━━━━━━━━━━━━━━━━━\u001b[0m\u001b[37m\u001b[0m \u001b[1m2s\u001b[0m 7ms/step - accuracy: 0.9786 - loss: 0.0696 - val_accuracy: 0.9800 - val_loss: 0.0537 - learning_rate: 5.0000e-04\n",
      "Epoch 20/150\n",
      "\u001b[1m362/369\u001b[0m \u001b[32m━━━━━━━━━━━━━━━━━━━\u001b[0m\u001b[37m━\u001b[0m \u001b[1m0s\u001b[0m 6ms/step - accuracy: 0.9784 - loss: 0.0638\n",
      "Epoch 20: val_loss did not improve from 0.05374\n",
      "\u001b[1m369/369\u001b[0m \u001b[32m━━━━━━━━━━━━━━━━━━━━\u001b[0m\u001b[37m\u001b[0m \u001b[1m2s\u001b[0m 7ms/step - accuracy: 0.9784 - loss: 0.0638 - val_accuracy: 0.9773 - val_loss: 0.0628 - learning_rate: 5.0000e-04\n",
      "Epoch 21/150\n",
      "\u001b[1m364/369\u001b[0m \u001b[32m━━━━━━━━━━━━━━━━━━━\u001b[0m\u001b[37m━\u001b[0m \u001b[1m0s\u001b[0m 6ms/step - accuracy: 0.9791 - loss: 0.0591\n",
      "Epoch 21: val_loss did not improve from 0.05374\n",
      "\u001b[1m369/369\u001b[0m \u001b[32m━━━━━━━━━━━━━━━━━━━━\u001b[0m\u001b[37m\u001b[0m \u001b[1m3s\u001b[0m 7ms/step - accuracy: 0.9791 - loss: 0.0591 - val_accuracy: 0.9814 - val_loss: 0.0538 - learning_rate: 5.0000e-04\n",
      "Epoch 22/150\n",
      "\u001b[1m361/369\u001b[0m \u001b[32m━━━━━━━━━━━━━━━━━━━\u001b[0m\u001b[37m━\u001b[0m \u001b[1m0s\u001b[0m 6ms/step - accuracy: 0.9823 - loss: 0.0575\n",
      "Epoch 22: val_loss improved from 0.05374 to 0.04688, saving model to app/model/sign_language_recognition.keras\n",
      "\u001b[1m369/369\u001b[0m \u001b[32m━━━━━━━━━━━━━━━━━━━━\u001b[0m\u001b[37m\u001b[0m \u001b[1m3s\u001b[0m 7ms/step - accuracy: 0.9822 - loss: 0.0575 - val_accuracy: 0.9820 - val_loss: 0.0469 - learning_rate: 5.0000e-04\n",
      "Epoch 23/150\n",
      "\u001b[1m361/369\u001b[0m \u001b[32m━━━━━━━━━━━━━━━━━━━\u001b[0m\u001b[37m━\u001b[0m \u001b[1m0s\u001b[0m 5ms/step - accuracy: 0.9847 - loss: 0.0468\n",
      "Epoch 23: val_loss did not improve from 0.04688\n",
      "\u001b[1m369/369\u001b[0m \u001b[32m━━━━━━━━━━━━━━━━━━━━\u001b[0m\u001b[37m\u001b[0m \u001b[1m2s\u001b[0m 6ms/step - accuracy: 0.9846 - loss: 0.0469 - val_accuracy: 0.9797 - val_loss: 0.0562 - learning_rate: 5.0000e-04\n",
      "Epoch 24/150\n",
      "\u001b[1m365/369\u001b[0m \u001b[32m━━━━━━━━━━━━━━━━━━━\u001b[0m\u001b[37m━\u001b[0m \u001b[1m0s\u001b[0m 6ms/step - accuracy: 0.9787 - loss: 0.0599\n",
      "Epoch 24: val_loss did not improve from 0.04688\n",
      "\u001b[1m369/369\u001b[0m \u001b[32m━━━━━━━━━━━━━━━━━━━━\u001b[0m\u001b[37m\u001b[0m \u001b[1m2s\u001b[0m 7ms/step - accuracy: 0.9787 - loss: 0.0600 - val_accuracy: 0.9810 - val_loss: 0.0539 - learning_rate: 5.0000e-04\n",
      "Epoch 25/150\n",
      "\u001b[1m366/369\u001b[0m \u001b[32m━━━━━━━━━━━━━━━━━━━\u001b[0m\u001b[37m━\u001b[0m \u001b[1m0s\u001b[0m 6ms/step - accuracy: 0.9804 - loss: 0.0546\n",
      "Epoch 25: val_loss did not improve from 0.04688\n",
      "\u001b[1m369/369\u001b[0m \u001b[32m━━━━━━━━━━━━━━━━━━━━\u001b[0m\u001b[37m\u001b[0m \u001b[1m2s\u001b[0m 6ms/step - accuracy: 0.9804 - loss: 0.0546 - val_accuracy: 0.9776 - val_loss: 0.0662 - learning_rate: 5.0000e-04\n",
      "Epoch 26/150\n",
      "\u001b[1m368/369\u001b[0m \u001b[32m━━━━━━━━━━━━━━━━━━━\u001b[0m\u001b[37m━\u001b[0m \u001b[1m0s\u001b[0m 6ms/step - accuracy: 0.9852 - loss: 0.0478\n",
      "Epoch 26: val_loss improved from 0.04688 to 0.04591, saving model to app/model/sign_language_recognition.keras\n",
      "\u001b[1m369/369\u001b[0m \u001b[32m━━━━━━━━━━━━━━━━━━━━\u001b[0m\u001b[37m\u001b[0m \u001b[1m2s\u001b[0m 6ms/step - accuracy: 0.9852 - loss: 0.0478 - val_accuracy: 0.9841 - val_loss: 0.0459 - learning_rate: 5.0000e-04\n",
      "Epoch 27/150\n",
      "\u001b[1m363/369\u001b[0m \u001b[32m━━━━━━━━━━━━━━━━━━━\u001b[0m\u001b[37m━\u001b[0m \u001b[1m0s\u001b[0m 6ms/step - accuracy: 0.9815 - loss: 0.0513\n",
      "Epoch 27: val_loss improved from 0.04591 to 0.04218, saving model to app/model/sign_language_recognition.keras\n",
      "\u001b[1m369/369\u001b[0m \u001b[32m━━━━━━━━━━━━━━━━━━━━\u001b[0m\u001b[37m\u001b[0m \u001b[1m3s\u001b[0m 7ms/step - accuracy: 0.9815 - loss: 0.0513 - val_accuracy: 0.9841 - val_loss: 0.0422 - learning_rate: 5.0000e-04\n",
      "Epoch 28/150\n",
      "\u001b[1m364/369\u001b[0m \u001b[32m━━━━━━━━━━━━━━━━━━━\u001b[0m\u001b[37m━\u001b[0m \u001b[1m0s\u001b[0m 6ms/step - accuracy: 0.9861 - loss: 0.0419\n",
      "Epoch 28: val_loss did not improve from 0.04218\n",
      "\u001b[1m369/369\u001b[0m \u001b[32m━━━━━━━━━━━━━━━━━━━━\u001b[0m\u001b[37m\u001b[0m \u001b[1m3s\u001b[0m 7ms/step - accuracy: 0.9861 - loss: 0.0419 - val_accuracy: 0.9827 - val_loss: 0.0526 - learning_rate: 5.0000e-04\n",
      "Epoch 29/150\n",
      "\u001b[1m364/369\u001b[0m \u001b[32m━━━━━━━━━━━━━━━━━━━\u001b[0m\u001b[37m━\u001b[0m \u001b[1m0s\u001b[0m 6ms/step - accuracy: 0.9839 - loss: 0.0491\n",
      "Epoch 29: val_loss did not improve from 0.04218\n",
      "\u001b[1m369/369\u001b[0m \u001b[32m━━━━━━━━━━━━━━━━━━━━\u001b[0m\u001b[37m\u001b[0m \u001b[1m3s\u001b[0m 7ms/step - accuracy: 0.9839 - loss: 0.0491 - val_accuracy: 0.9780 - val_loss: 0.0628 - learning_rate: 5.0000e-04\n",
      "Epoch 30/150\n",
      "\u001b[1m364/369\u001b[0m \u001b[32m━━━━━━━━━━━━━━━━━━━\u001b[0m\u001b[37m━\u001b[0m \u001b[1m0s\u001b[0m 6ms/step - accuracy: 0.9853 - loss: 0.0463\n",
      "Epoch 30: val_loss did not improve from 0.04218\n",
      "\u001b[1m369/369\u001b[0m \u001b[32m━━━━━━━━━━━━━━━━━━━━\u001b[0m\u001b[37m\u001b[0m \u001b[1m3s\u001b[0m 7ms/step - accuracy: 0.9853 - loss: 0.0463 - val_accuracy: 0.9810 - val_loss: 0.0464 - learning_rate: 5.0000e-04\n",
      "Epoch 31/150\n",
      "\u001b[1m367/369\u001b[0m \u001b[32m━━━━━━━━━━━━━━━━━━━\u001b[0m\u001b[37m━\u001b[0m \u001b[1m0s\u001b[0m 6ms/step - accuracy: 0.9834 - loss: 0.0487\n",
      "Epoch 31: val_loss improved from 0.04218 to 0.03855, saving model to app/model/sign_language_recognition.keras\n",
      "\u001b[1m369/369\u001b[0m \u001b[32m━━━━━━━━━━━━━━━━━━━━\u001b[0m\u001b[37m\u001b[0m \u001b[1m3s\u001b[0m 7ms/step - accuracy: 0.9834 - loss: 0.0487 - val_accuracy: 0.9861 - val_loss: 0.0386 - learning_rate: 5.0000e-04\n",
      "Epoch 32/150\n",
      "\u001b[1m362/369\u001b[0m \u001b[32m━━━━━━━━━━━━━━━━━━━\u001b[0m\u001b[37m━\u001b[0m \u001b[1m0s\u001b[0m 5ms/step - accuracy: 0.9849 - loss: 0.0424\n",
      "Epoch 32: val_loss did not improve from 0.03855\n",
      "\u001b[1m369/369\u001b[0m \u001b[32m━━━━━━━━━━━━━━━━━━━━\u001b[0m\u001b[37m\u001b[0m \u001b[1m2s\u001b[0m 6ms/step - accuracy: 0.9848 - loss: 0.0425 - val_accuracy: 0.9844 - val_loss: 0.0454 - learning_rate: 5.0000e-04\n",
      "Epoch 33/150\n",
      "\u001b[1m363/369\u001b[0m \u001b[32m━━━━━━━━━━━━━━━━━━━\u001b[0m\u001b[37m━\u001b[0m \u001b[1m0s\u001b[0m 5ms/step - accuracy: 0.9869 - loss: 0.0409\n",
      "Epoch 33: val_loss did not improve from 0.03855\n",
      "\u001b[1m369/369\u001b[0m \u001b[32m━━━━━━━━━━━━━━━━━━━━\u001b[0m\u001b[37m\u001b[0m \u001b[1m2s\u001b[0m 6ms/step - accuracy: 0.9869 - loss: 0.0410 - val_accuracy: 0.9824 - val_loss: 0.0539 - learning_rate: 5.0000e-04\n",
      "Epoch 34/150\n",
      "\u001b[1m366/369\u001b[0m \u001b[32m━━━━━━━━━━━━━━━━━━━\u001b[0m\u001b[37m━\u001b[0m \u001b[1m0s\u001b[0m 5ms/step - accuracy: 0.9833 - loss: 0.0533\n",
      "Epoch 34: val_loss did not improve from 0.03855\n",
      "\u001b[1m369/369\u001b[0m \u001b[32m━━━━━━━━━━━━━━━━━━━━\u001b[0m\u001b[37m\u001b[0m \u001b[1m2s\u001b[0m 6ms/step - accuracy: 0.9833 - loss: 0.0533 - val_accuracy: 0.9881 - val_loss: 0.0413 - learning_rate: 5.0000e-04\n",
      "Epoch 35/150\n",
      "\u001b[1m367/369\u001b[0m \u001b[32m━━━━━━━━━━━━━━━━━━━\u001b[0m\u001b[37m━\u001b[0m \u001b[1m0s\u001b[0m 6ms/step - accuracy: 0.9859 - loss: 0.0435\n",
      "Epoch 35: val_loss did not improve from 0.03855\n",
      "\u001b[1m369/369\u001b[0m \u001b[32m━━━━━━━━━━━━━━━━━━━━\u001b[0m\u001b[37m\u001b[0m \u001b[1m2s\u001b[0m 6ms/step - accuracy: 0.9858 - loss: 0.0435 - val_accuracy: 0.9807 - val_loss: 0.0503 - learning_rate: 5.0000e-04\n",
      "Epoch 36/150\n",
      "\u001b[1m368/369\u001b[0m \u001b[32m━━━━━━━━━━━━━━━━━━━\u001b[0m\u001b[37m━\u001b[0m \u001b[1m0s\u001b[0m 6ms/step - accuracy: 0.9856 - loss: 0.0416\n",
      "Epoch 36: val_loss did not improve from 0.03855\n",
      "\n",
      "Epoch 36: ReduceLROnPlateau reducing learning rate to 0.0002500000118743628.\n",
      "\u001b[1m369/369\u001b[0m \u001b[32m━━━━━━━━━━━━━━━━━━━━\u001b[0m\u001b[37m\u001b[0m \u001b[1m2s\u001b[0m 6ms/step - accuracy: 0.9856 - loss: 0.0416 - val_accuracy: 0.9783 - val_loss: 0.0689 - learning_rate: 5.0000e-04\n",
      "Epoch 37/150\n",
      "\u001b[1m363/369\u001b[0m \u001b[32m━━━━━━━━━━━━━━━━━━━\u001b[0m\u001b[37m━\u001b[0m \u001b[1m0s\u001b[0m 6ms/step - accuracy: 0.9879 - loss: 0.0367\n",
      "Epoch 37: val_loss improved from 0.03855 to 0.03480, saving model to app/model/sign_language_recognition.keras\n",
      "\u001b[1m369/369\u001b[0m \u001b[32m━━━━━━━━━━━━━━━━━━━━\u001b[0m\u001b[37m\u001b[0m \u001b[1m2s\u001b[0m 7ms/step - accuracy: 0.9879 - loss: 0.0367 - val_accuracy: 0.9875 - val_loss: 0.0348 - learning_rate: 2.5000e-04\n",
      "Epoch 38/150\n",
      "\u001b[1m369/369\u001b[0m \u001b[32m━━━━━━━━━━━━━━━━━━━━\u001b[0m\u001b[37m\u001b[0m \u001b[1m0s\u001b[0m 6ms/step - accuracy: 0.9877 - loss: 0.0323\n",
      "Epoch 38: val_loss did not improve from 0.03480\n",
      "\u001b[1m369/369\u001b[0m \u001b[32m━━━━━━━━━━━━━━━━━━━━\u001b[0m\u001b[37m\u001b[0m \u001b[1m2s\u001b[0m 6ms/step - accuracy: 0.9877 - loss: 0.0323 - val_accuracy: 0.9837 - val_loss: 0.0422 - learning_rate: 2.5000e-04\n",
      "Epoch 39/150\n",
      "\u001b[1m361/369\u001b[0m \u001b[32m━━━━━━━━━━━━━━━━━━━\u001b[0m\u001b[37m━\u001b[0m \u001b[1m0s\u001b[0m 6ms/step - accuracy: 0.9882 - loss: 0.0335\n",
      "Epoch 39: val_loss did not improve from 0.03480\n",
      "\u001b[1m369/369\u001b[0m \u001b[32m━━━━━━━━━━━━━━━━━━━━\u001b[0m\u001b[37m\u001b[0m \u001b[1m2s\u001b[0m 6ms/step - accuracy: 0.9882 - loss: 0.0335 - val_accuracy: 0.9858 - val_loss: 0.0419 - learning_rate: 2.5000e-04\n",
      "Epoch 40/150\n",
      "\u001b[1m367/369\u001b[0m \u001b[32m━━━━━━━━━━━━━━━━━━━\u001b[0m\u001b[37m━\u001b[0m \u001b[1m0s\u001b[0m 6ms/step - accuracy: 0.9898 - loss: 0.0289\n",
      "Epoch 40: val_loss did not improve from 0.03480\n",
      "\u001b[1m369/369\u001b[0m \u001b[32m━━━━━━━━━━━━━━━━━━━━\u001b[0m\u001b[37m\u001b[0m \u001b[1m2s\u001b[0m 7ms/step - accuracy: 0.9898 - loss: 0.0289 - val_accuracy: 0.9888 - val_loss: 0.0352 - learning_rate: 2.5000e-04\n",
      "Epoch 41/150\n",
      "\u001b[1m367/369\u001b[0m \u001b[32m━━━━━━━━━━━━━━━━━━━\u001b[0m\u001b[37m━\u001b[0m \u001b[1m0s\u001b[0m 6ms/step - accuracy: 0.9878 - loss: 0.0295\n",
      "Epoch 41: val_loss improved from 0.03480 to 0.03344, saving model to app/model/sign_language_recognition.keras\n",
      "\u001b[1m369/369\u001b[0m \u001b[32m━━━━━━━━━━━━━━━━━━━━\u001b[0m\u001b[37m\u001b[0m \u001b[1m2s\u001b[0m 7ms/step - accuracy: 0.9878 - loss: 0.0295 - val_accuracy: 0.9892 - val_loss: 0.0334 - learning_rate: 2.5000e-04\n",
      "Epoch 42/150\n",
      "\u001b[1m363/369\u001b[0m \u001b[32m━━━━━━━━━━━━━━━━━━━\u001b[0m\u001b[37m━\u001b[0m \u001b[1m0s\u001b[0m 6ms/step - accuracy: 0.9898 - loss: 0.0291\n",
      "Epoch 42: val_loss did not improve from 0.03344\n",
      "\u001b[1m369/369\u001b[0m \u001b[32m━━━━━━━━━━━━━━━━━━━━\u001b[0m\u001b[37m\u001b[0m \u001b[1m2s\u001b[0m 7ms/step - accuracy: 0.9898 - loss: 0.0291 - val_accuracy: 0.9817 - val_loss: 0.0620 - learning_rate: 2.5000e-04\n",
      "Epoch 43/150\n",
      "\u001b[1m360/369\u001b[0m \u001b[32m━━━━━━━━━━━━━━━━━━━\u001b[0m\u001b[37m━\u001b[0m \u001b[1m0s\u001b[0m 5ms/step - accuracy: 0.9855 - loss: 0.0409\n",
      "Epoch 43: val_loss did not improve from 0.03344\n",
      "\u001b[1m369/369\u001b[0m \u001b[32m━━━━━━━━━━━━━━━━━━━━\u001b[0m\u001b[37m\u001b[0m \u001b[1m2s\u001b[0m 6ms/step - accuracy: 0.9855 - loss: 0.0407 - val_accuracy: 0.9881 - val_loss: 0.0362 - learning_rate: 2.5000e-04\n",
      "Epoch 44/150\n",
      "\u001b[1m366/369\u001b[0m \u001b[32m━━━━━━━━━━━━━━━━━━━\u001b[0m\u001b[37m━\u001b[0m \u001b[1m0s\u001b[0m 6ms/step - accuracy: 0.9902 - loss: 0.0270\n",
      "Epoch 44: val_loss did not improve from 0.03344\n",
      "\u001b[1m369/369\u001b[0m \u001b[32m━━━━━━━━━━━━━━━━━━━━\u001b[0m\u001b[37m\u001b[0m \u001b[1m2s\u001b[0m 7ms/step - accuracy: 0.9903 - loss: 0.0270 - val_accuracy: 0.9871 - val_loss: 0.0366 - learning_rate: 2.5000e-04\n",
      "Epoch 45/150\n",
      "\u001b[1m365/369\u001b[0m \u001b[32m━━━━━━━━━━━━━━━━━━━\u001b[0m\u001b[37m━\u001b[0m \u001b[1m0s\u001b[0m 6ms/step - accuracy: 0.9904 - loss: 0.0287\n",
      "Epoch 45: val_loss did not improve from 0.03344\n",
      "\u001b[1m369/369\u001b[0m \u001b[32m━━━━━━━━━━━━━━━━━━━━\u001b[0m\u001b[37m\u001b[0m \u001b[1m2s\u001b[0m 6ms/step - accuracy: 0.9904 - loss: 0.0287 - val_accuracy: 0.9898 - val_loss: 0.0356 - learning_rate: 2.5000e-04\n",
      "Epoch 46/150\n",
      "\u001b[1m361/369\u001b[0m \u001b[32m━━━━━━━━━━━━━━━━━━━\u001b[0m\u001b[37m━\u001b[0m \u001b[1m0s\u001b[0m 6ms/step - accuracy: 0.9884 - loss: 0.0298\n",
      "Epoch 46: val_loss did not improve from 0.03344\n",
      "\n",
      "Epoch 46: ReduceLROnPlateau reducing learning rate to 0.0001250000059371814.\n",
      "\u001b[1m369/369\u001b[0m \u001b[32m━━━━━━━━━━━━━━━━━━━━\u001b[0m\u001b[37m\u001b[0m \u001b[1m2s\u001b[0m 7ms/step - accuracy: 0.9884 - loss: 0.0298 - val_accuracy: 0.9892 - val_loss: 0.0393 - learning_rate: 2.5000e-04\n",
      "Epoch 47/150\n",
      "\u001b[1m368/369\u001b[0m \u001b[32m━━━━━━━━━━━━━━━━━━━\u001b[0m\u001b[37m━\u001b[0m \u001b[1m0s\u001b[0m 6ms/step - accuracy: 0.9912 - loss: 0.0250\n",
      "Epoch 47: val_loss did not improve from 0.03344\n",
      "\u001b[1m369/369\u001b[0m \u001b[32m━━━━━━━━━━━━━━━━━━━━\u001b[0m\u001b[37m\u001b[0m \u001b[1m2s\u001b[0m 6ms/step - accuracy: 0.9912 - loss: 0.0250 - val_accuracy: 0.9888 - val_loss: 0.0390 - learning_rate: 1.2500e-04\n",
      "Epoch 48/150\n",
      "\u001b[1m366/369\u001b[0m \u001b[32m━━━━━━━━━━━━━━━━━━━\u001b[0m\u001b[37m━\u001b[0m \u001b[1m0s\u001b[0m 6ms/step - accuracy: 0.9906 - loss: 0.0268\n",
      "Epoch 48: val_loss did not improve from 0.03344\n",
      "\u001b[1m369/369\u001b[0m \u001b[32m━━━━━━━━━━━━━━━━━━━━\u001b[0m\u001b[37m\u001b[0m \u001b[1m2s\u001b[0m 7ms/step - accuracy: 0.9906 - loss: 0.0268 - val_accuracy: 0.9878 - val_loss: 0.0382 - learning_rate: 1.2500e-04\n",
      "Epoch 49/150\n",
      "\u001b[1m362/369\u001b[0m \u001b[32m━━━━━━━━━━━━━━━━━━━\u001b[0m\u001b[37m━\u001b[0m \u001b[1m0s\u001b[0m 6ms/step - accuracy: 0.9918 - loss: 0.0237\n",
      "Epoch 49: val_loss did not improve from 0.03344\n",
      "\u001b[1m369/369\u001b[0m \u001b[32m━━━━━━━━━━━━━━━━━━━━\u001b[0m\u001b[37m\u001b[0m \u001b[1m2s\u001b[0m 6ms/step - accuracy: 0.9919 - loss: 0.0237 - val_accuracy: 0.9878 - val_loss: 0.0485 - learning_rate: 1.2500e-04\n",
      "Epoch 50/150\n",
      "\u001b[1m369/369\u001b[0m \u001b[32m━━━━━━━━━━━━━━━━━━━━\u001b[0m\u001b[37m\u001b[0m \u001b[1m0s\u001b[0m 6ms/step - accuracy: 0.9921 - loss: 0.0255\n",
      "Epoch 50: val_loss did not improve from 0.03344\n",
      "\u001b[1m369/369\u001b[0m \u001b[32m━━━━━━━━━━━━━━━━━━━━\u001b[0m\u001b[37m\u001b[0m \u001b[1m2s\u001b[0m 6ms/step - accuracy: 0.9921 - loss: 0.0255 - val_accuracy: 0.9878 - val_loss: 0.0429 - learning_rate: 1.2500e-04\n",
      "Epoch 51/150\n",
      "\u001b[1m369/369\u001b[0m \u001b[32m━━━━━━━━━━━━━━━━━━━━\u001b[0m\u001b[37m\u001b[0m \u001b[1m0s\u001b[0m 6ms/step - accuracy: 0.9930 - loss: 0.0197\n",
      "Epoch 51: val_loss did not improve from 0.03344\n",
      "\n",
      "Epoch 51: ReduceLROnPlateau reducing learning rate to 6.25000029685907e-05.\n",
      "\u001b[1m369/369\u001b[0m \u001b[32m━━━━━━━━━━━━━━━━━━━━\u001b[0m\u001b[37m\u001b[0m \u001b[1m2s\u001b[0m 7ms/step - accuracy: 0.9930 - loss: 0.0197 - val_accuracy: 0.9898 - val_loss: 0.0395 - learning_rate: 1.2500e-04\n"
     ]
    }
   ],
   "source": [
    "history = model.fit(\n",
    "    X_train, y_train,\n",
    "    validation_split=0.2,\n",
    "    epochs=150,\n",
    "    batch_size=32,\n",
    "    callbacks=callbacks\n",
    ")"
   ]
  },
  {
   "cell_type": "markdown",
   "id": "2b32b0b7",
   "metadata": {},
   "source": [
    "# Training History"
   ]
  },
  {
   "cell_type": "code",
   "execution_count": 25,
   "id": "220664fa",
   "metadata": {},
   "outputs": [
    {
     "data": {
      "image/png": "[encoded data removed]",
      "text/plain": [
       "<Figure size 1200x400 with 2 Axes>"
      ]
     },
     "metadata": {},
     "output_type": "display_data"
    }
   ],
   "source": [
    "plt.figure(figsize=(12, 4))\n",
    "plt.subplot(1, 2, 1)\n",
    "plt.plot(history.history['accuracy'], label='train accuracy')\n",
    "plt.plot(history.history['val_accuracy'], label='validation accuracy')\n",
    "plt.title('Model Accuracy')\n",
    "plt.xlabel('Epochs')\n",
    "plt.ylabel('Accuracy')\n",
    "plt.legend()\n",
    "plt.subplot(1, 2, 2)\n",
    "plt.plot(history.history['loss'], label='train loss')\n",
    "plt.plot(history.history['val_loss'], label='validation loss')\n",
    "plt.title('Model Loss')\n",
    "plt.xlabel('Epochs')\n",
    "plt.ylabel('Loss')\n",
    "plt.legend()\n",
    "plt.show()"
   ]
  },
  {
   "cell_type": "markdown",
   "id": "c8612a5e",
   "metadata": {},
   "source": [
    "# Evaluate Model\n",
    "\n",
    "## Accuracy"
   ]
  },
  {
   "cell_type": "code",
   "execution_count": 26,
   "id": "70eb3f28",
   "metadata": {},
   "outputs": [
    {
     "name": "stdout",
     "output_type": "stream",
     "text": [
      "\u001b[1m116/116\u001b[0m \u001b[32m━━━━━━━━━━━━━━━━━━━━\u001b[0m\u001b[37m\u001b[0m \u001b[1m0s\u001b[0m 2ms/step - accuracy: 0.9854 - loss: 0.0536\n",
      "Test Accuracy: 0.9867, Test Loss: 0.0459\n"
     ]
    }
   ],
   "source": [
    "test_loss, test_acc = model.evaluate(X_test, y_test)\n",
    "print(f\"Test Accuracy: {test_acc:.4f}, Test Loss: {test_loss:.4f}\")"
   ]
  },
  {
   "cell_type": "markdown",
   "id": "82275af8",
   "metadata": {},
   "source": [
    "## Classification Report"
   ]
  },
  {
   "cell_type": "code",
   "execution_count": 27,
   "id": "6c4e686a",
   "metadata": {},
   "outputs": [
    {
     "name": "stdout",
     "output_type": "stream",
     "text": [
      "\u001b[1m116/116\u001b[0m \u001b[32m━━━━━━━━━━━━━━━━━━━━\u001b[0m\u001b[37m\u001b[0m \u001b[1m0s\u001b[0m 2ms/step\n",
      "              precision    recall  f1-score   support\n",
      "\n",
      "   afternoon       0.99      1.00      0.99       266\n",
      "         age       0.98      0.99      0.99       387\n",
      "         boy       1.00      1.00      1.00       290\n",
      "     country       0.98      0.95      0.96       428\n",
      "         day       0.99      1.00      0.99       427\n",
      "      monday       1.00      1.00      1.00       212\n",
      "        name       0.99      0.98      0.98       401\n",
      "       night       1.00      1.00      1.00       322\n",
      "      people       1.00      1.00      1.00       422\n",
      "      person       1.00      1.00      1.00       238\n",
      "        time       0.93      0.96      0.95       297\n",
      "\n",
      "    accuracy                           0.99      3690\n",
      "   macro avg       0.99      0.99      0.99      3690\n",
      "weighted avg       0.99      0.99      0.99      3690\n",
      "\n"
     ]
    }
   ],
   "source": [
    "y_pred = model.predict(X_test)\n",
    "y_pred_classes = np.argmax(y_pred, axis=1)\n",
    "y_true = np.argmax(y_test, axis=1)\n",
    "print(classification_report(y_true, y_pred_classes, target_names=le.classes_))"
   ]
  },
  {
   "cell_type": "markdown",
   "id": "b35fd34c",
   "metadata": {},
   "source": [
    "## Confusion Matrix"
   ]
  },
  {
   "cell_type": "code",
   "execution_count": 28,
   "id": "b60c9d3e",
   "metadata": {},
   "outputs": [
    {
     "data": {
      "image/png": "[encoded data removed]",
      "text/plain": [
       "<Figure size 1000x800 with 2 Axes>"
      ]
     },
     "metadata": {},
     "output_type": "display_data"
    }
   ],
   "source": [
    "cm = confusion_matrix(y_true, y_pred_classes)\n",
    "\n",
    "plt.figure(figsize=(10, 8))\n",
    "sns.heatmap(cm, annot=True, fmt='d', cmap='Blues', xticklabels=le.classes_, yticklabels=le.classes_)\n",
    "plt.title('Confusion Matrix')\n",
    "plt.xlabel('Predicted Label')\n",
    "plt.ylabel('True Label')\n",
    "plt.show()"
   ]
  },
  {
   "cell_type": "markdown",
   "id": "54279126",
   "metadata": {},
   "source": [
    "# t-SNE\n",
    "## Create Intermediate Layer for t-SNE"
   ]
  },
  {
   "cell_type": "code",
   "execution_count": null,
   "id": "ae7b7f58",
   "metadata": {},
   "outputs": [],
   "source": [
    "intermediate_layer_model = Model(\n",
    "    inputs=model.input, outputs=model.get_layer(\"lstm_2\").output\n",
    ")"
   ]
  },
  {
   "cell_type": "markdown",
   "id": "f55634d2",
   "metadata": {},
   "source": [
    "## Get Intermediate Layer Output"
   ]
  },
  {
   "cell_type": "code",
   "execution_count": 30,
   "id": "13f81bd3",
   "metadata": {},
   "outputs": [
    {
     "name": "stdout",
     "output_type": "stream",
     "text": [
      "\u001b[1m462/462\u001b[0m \u001b[32m━━━━━━━━━━━━━━━━━━━━\u001b[0m\u001b[37m\u001b[0m \u001b[1m1s\u001b[0m 1ms/step\n",
      "\u001b[1m116/116\u001b[0m \u001b[32m━━━━━━━━━━━━━━━━━━━━\u001b[0m\u001b[37m\u001b[0m \u001b[1m0s\u001b[0m 866us/step\n"
     ]
    }
   ],
   "source": [
    "X_train_lstm = intermediate_layer_model.predict(X_train)\n",
    "X_test_lstm = intermediate_layer_model.predict(X_test)"
   ]
  },
  {
   "cell_type": "markdown",
   "id": "925f9fa1",
   "metadata": {},
   "source": [
    "## Reduction to 2D Space with t-SNE"
   ]
  },
  {
   "cell_type": "code",
   "execution_count": 31,
   "id": "4afeefc5",
   "metadata": {},
   "outputs": [],
   "source": [
    "tsne = TSNE(n_components=2, perplexity=30, random_state=42)\n",
    "X_tsne = tsne.fit_transform(X_test_lstm)"
   ]
  },
  {
   "cell_type": "markdown",
   "id": "b028db5f",
   "metadata": {},
   "source": [
    "## Visualize t-SNE"
   ]
  },
  {
   "cell_type": "code",
   "execution_count": 32,
   "id": "5256c77f",
   "metadata": {},
   "outputs": [],
   "source": [
    "# One-hot vektörü -> sınıf etiketine dönüştür\n",
    "y_test_int = np.argmax(y_test, axis=1)\n",
    "labels = le.inverse_transform(y_test_int)"
   ]
  },
  {
   "cell_type": "code",
   "execution_count": 33,
   "id": "b407c133",
   "metadata": {},
   "outputs": [
    {
     "data": {
      "image/png": "[encoded data removed]",
      "text/plain": [
       "<Figure size 1200x800 with 1 Axes>"
      ]
     },
     "metadata": {},
     "output_type": "display_data"
    }
   ],
   "source": [
    "plt.figure(figsize=(12, 8))\n",
    "scatter = plt.scatter(X_tsne[:, 0], X_tsne[:, 1], c=y_test_int, cmap='tab10', alpha=0.7)\n",
    "plt.title('t-SNE Visualization of LSTM Outputs')\n",
    "plt.xlabel('t-SNE Dimension 1')\n",
    "plt.ylabel('t-SNE Dimension 2')\n",
    "plt.grid(False)\n",
    "plt.legend(*scatter.legend_elements(), title=\"Classes\", loc=\"best\")\n",
    "plt.show()"
   ]
  },
  {
   "cell_type": "markdown",
   "id": "8456a4c1",
   "metadata": {},
   "source": [
    "# Save the Model, LabelEncoder and Scaler\n",
    "\n",
    "for later use prediction"
   ]
  },
  {
   "cell_type": "code",
   "execution_count": 34,
   "id": "ddb90732",
   "metadata": {},
   "outputs": [
    {
     "data": {
      "text/plain": [
       "['app/model/scaler.pkl']"
      ]
     },
     "execution_count": 34,
     "metadata": {},
     "output_type": "execute_result"
    }
   ],
   "source": [
    "model.save('app/model/sign_language_recognition.keras')\n",
    "joblib.dump(le, \"app/model/label_encoder.pkl\")\n",
    "joblib.dump(scaler, \"app/model/scaler.pkl\")"
   ]
  }
 ],
 "metadata": {
  "kernelspec": {
   "display_name": "ai",
   "language": "python",
   "name": "python3"
  },
  "language_info": {
   "codemirror_mode": {
    "name": "ipython",
    "version": 3
   },
   "file_extension": ".py",
   "mimetype": "text/x-python",
   "name": "python",
   "nbconvert_exporter": "python",
   "pygments_lexer": "ipython3",
   "version": "3.10.12"
  }
 },
 "nbformat": 4,
 "nbformat_minor": 5
}
